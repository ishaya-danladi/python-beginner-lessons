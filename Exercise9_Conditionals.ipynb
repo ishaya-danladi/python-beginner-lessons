{
 "cells": [
  {
   "cell_type": "code",
   "execution_count": 8,
   "id": "95c60d27-0cfc-42fc-8f8a-c5e8dd8b10f6",
   "metadata": {},
   "outputs": [
    {
     "name": "stdin",
     "output_type": "stream",
     "text": [
      "Enter your age: 54\n"
     ]
    },
    {
     "name": "stdout",
     "output_type": "stream",
     "text": [
      "You are old enough to drive!!!\n"
     ]
    }
   ],
   "source": [
    "### Exercises: Level 1\n",
    "\n",
    "#1.  Get user input using input(“Enter your age: ”). If user is 18 or older, give feedback: You are old enough to drive. If below 18 give feedback to \n",
    "# wait for the missing amount of years. Output:\n",
    "\n",
    "user = int(input('Enter your age:'))\n",
    "if user >= 18:\n",
    "    print('You are old enough to drive!!!')\n",
    "else:\n",
    "    a = 18 - user\n",
    "    print('You are not old enough. Wait for', a, 'years to start driving')"
   ]
  },
  {
   "cell_type": "code",
   "execution_count": 12,
   "id": "d4498527-649c-4b29-8aaf-341c459c02ce",
   "metadata": {},
   "outputs": [
    {
     "name": "stdin",
     "output_type": "stream",
     "text": [
      "Enter your age: 24\n"
     ]
    },
    {
     "name": "stdout",
     "output_type": "stream",
     "text": [
      "I am older than you with just 1 year, so just chill!!!\n"
     ]
    }
   ],
   "source": [
    "# 2.  Compare the values of my_age and your_age using if … else. Who is older (me or you)? Use input(“Enter your age: ”) to get the age as input. \n",
    "#You can use a nested condition to print 'year' for 1 year difference in age, 'years' for bigger differences, and a custom text if my_age = your_age. Output:\n",
    "\n",
    "my_age = 25\n",
    "your_age = int(input('Enter your age:'))\n",
    "if my_age > your_age:\n",
    "    if (my_age - your_age) == 1:\n",
    "        print('I am older than you with just 1 year, so just chill!!!')\n",
    "    else:\n",
    "        print('I am really older than you, just forget it!!!')\n",
    "elif your_age > my_age:\n",
    "    printt('You are older than me Sir!!!')\n",
    "else:\n",
    "    print('We are both age mates...')\n"
   ]
  },
  {
   "cell_type": "code",
   "execution_count": 26,
   "id": "f468fb4f-f6f8-4a03-92a6-e2f5961f2a8d",
   "metadata": {},
   "outputs": [
    {
     "name": "stdin",
     "output_type": "stream",
     "text": [
      "Enter first number: 8\n",
      "Enter second number: 8\n"
     ]
    },
    {
     "name": "stdout",
     "output_type": "stream",
     "text": [
      "a is equal to b\n"
     ]
    }
   ],
   "source": [
    "# 3.  Get two numbers from the user using input prompt. If a is greater than b return a is greater than b, if a is less b return a is smaller than b, else a is equal to b. Output:\n",
    "a = int(input('Enter first number:'))\n",
    "b = int(input('Enter second number:'))\n",
    "\n",
    "if a > b:\n",
    "    print('a is greater than b')\n",
    "elif b > a:\n",
    "    print('b is greater than a')\n",
    "else :\n",
    "    print('a is equal to b')"
   ]
  },
  {
   "cell_type": "code",
   "execution_count": 34,
   "id": "7f977e34-256d-4547-9901-a363e61c7c28",
   "metadata": {},
   "outputs": [
    {
     "name": "stdin",
     "output_type": "stream",
     "text": [
      "Enter your score over hundred: 89\n"
     ]
    },
    {
     "name": "stdout",
     "output_type": "stream",
     "text": [
      "Your grade is A\n"
     ]
    }
   ],
   "source": [
    " ### Exercises: Level 2\n",
    "\n",
    "  # 1. Write a code which gives grade to students according to theirs scores:\n",
    "\n",
    "score = int(input('Enter your score over hundred:'))\n",
    "if score >= 80 and score <= 100:\n",
    "    print('Your grade is A')\n",
    "elif score >= 70 and score <= 79:\n",
    "    print('Your grade is B')\n",
    "elif score >= 60 and score <= 69:\n",
    "    print('Your grade is C')\n",
    "elif score >= 50 and score <= 59:\n",
    "    print('Your grade is D')\n",
    "else:\n",
    "    print('Your grade is F')"
   ]
  },
  {
   "cell_type": "code",
   "execution_count": 9,
   "id": "3ed17bd6-c771-4754-a699-643254244b04",
   "metadata": {},
   "outputs": [
    {
     "name": "stdin",
     "output_type": "stream",
     "text": [
      "Enter the month of the year: July\n"
     ]
    },
    {
     "name": "stdout",
     "output_type": "stream",
     "text": [
      "The season is Summer\n",
      "The season is Summer!!!\n"
     ]
    }
   ],
   "source": [
    "#1. Check if the season is Autumn, Winter, Spring or Summer. If the user input is:\n",
    "\n",
    "season = str(input('Enter the month of the year:'))\n",
    "\n",
    "if season == 'September' or season == 'October' or season == 'November':\n",
    "    print('The season is Autumn')\n",
    "elif season == 'January' or season == 'December' or season == 'February':\n",
    "    print('The season is Winter')\n",
    "elif season == 'March' or season == 'April' or season == 'May':\n",
    "    print('The season is Spring')\n",
    "elif season == 'June' or season == 'July' or season == 'August':\n",
    "    print('The season is Summer')\n",
    "else:\n",
    "    print('Your entry is incorrect. Please try again')\n",
    "#   'September', 'October', 'November' Swinter = ()eptember, October or November, the season is Autumn.\n",
    "#    December, January or February, the season is Winter.\n",
    "#    March, April or May, the season is Spring\n",
    "#    June, July or August, the season is Summer\n",
    "\n",
    "### ANOTHER METHOD USING TUPLE METHOD\n",
    "\n",
    "autumn = ('September', 'October', 'November')\n",
    "winter = ('December', 'January', 'February')\n",
    "spring = ('March', 'April', 'May')\n",
    "summer = ('June', 'July', 'August')\n",
    "\n",
    "if season in autumn:\n",
    "     print('The season is Autumn!!!')\n",
    "elif season in winter:\n",
    "    print('The season is Winter!!!')\n",
    "elif season in spring:\n",
    "    print('The season is Spring!!!')\n",
    "elif season in summer:\n",
    "    print('The season is Summer!!!')\n",
    "else:\n",
    "    print('Your entry is incorrect. Please try again!!!')\n"
   ]
  },
  {
   "cell_type": "code",
   "execution_count": 13,
   "id": "0473c47e-d8f6-46cd-9479-35a8c8b6af45",
   "metadata": {},
   "outputs": [
    {
     "name": "stdin",
     "output_type": "stream",
     "text": [
      "Enter the name of fruit: Apple\n"
     ]
    },
    {
     "name": "stdout",
     "output_type": "stream",
     "text": [
      "['banana', 'orange', 'mango', 'lemon', 'Apple']\n"
     ]
    }
   ],
   "source": [
    "#2.  The following list contains some fruits:\n",
    " #   ```sh\n",
    " #   fruits = ['banana', 'orange', 'mango', 'lemon']\n",
    " #   ```\n",
    " #   If a fruit doesn't exist in the list add the fruit to the list and print the modified list. If the fruit exists print('That fruit already exist in the list') \n",
    "\n",
    "\n",
    "\n",
    "your_input = str(input('Enter the name of fruit:'))\n",
    "\n",
    "fruits = ['banana', 'orange', 'mango', 'lemon']\n",
    "\n",
    "\n",
    "if your_input not in fruits:\n",
    "    fruits.append(your_input)\n",
    "    print(fruits) \n",
    "else:\n",
    "    print('That fruit already exist in the list!!!')\n",
    "    \n"
   ]
  },
  {
   "cell_type": "code",
   "execution_count": 33,
   "id": "ef86f48c-de46-4401-bdad-baafae574bdf",
   "metadata": {},
   "outputs": [
    {
     "name": "stdout",
     "output_type": "stream",
     "text": [
      "['Python', 'Music', 'JavaScript']\n",
      "Music\n"
     ]
    }
   ],
   "source": [
    " ### Exercises: Level 3\n",
    "\n",
    "#  1. Here we have a person dictionary. Feel free to modify it!\n",
    "\n",
    "person = {\n",
    "    'first_name':'Ishaya',\n",
    "    'last_name':'Danladi',\n",
    "    'age':25,\n",
    "    'country':'Nigeria',\n",
    "    'is_married':False,\n",
    "    'skills':['Python','Music','JavaScript'],\n",
    "    'address':{\n",
    "        'street':'Yawunde Street',\n",
    "        'zipcode': 234247\n",
    "    }\n",
    "}\n",
    "\n",
    "# * Check if the person dictionary has skills key, if so print out the middle skill in the skills list.\n",
    "\n",
    "if 'skills' in person.keys():\n",
    "    a = person['skills']\n",
    "    print(a)\n",
    "    middle = a.pop(len(a) // 2)\n",
    "    print(middle)\n",
    "else: \n",
    "    print('It is not in the person dictionary')"
   ]
  },
  {
   "cell_type": "code",
   "execution_count": 9,
   "id": "33e33ba9-047f-4508-8998-5950c8c4135d",
   "metadata": {},
   "outputs": [
    {
     "name": "stdout",
     "output_type": "stream",
     "text": [
      "Python is part of your skills\n"
     ]
    }
   ],
   "source": [
    "# * Check if the person dictionary has skills key, if so check if the person has 'Python' skill and print out the result.\n",
    "\n",
    "person = {\n",
    "    'first_name':'Ishaya',\n",
    "    'last_name':'Danladi',\n",
    "    'age':25,\n",
    "    'country':'Nigeria',\n",
    "    'is_married':False,\n",
    "    'skills':['Python','Music','JavaScript'],\n",
    "    'address':{\n",
    "        'street':'Yawunde Street',\n",
    "        'zipcode': 234247\n",
    "    }\n",
    "}\n",
    "\n",
    "if 'skills' in person.keys():\n",
    "    a = person['skills']\n",
    "    if 'Python' in a:\n",
    "        print('Python is part of your skills')\n",
    "    else:\n",
    "        print('Python is not part of your skills')\n",
    "else:\n",
    "    print('skills key is not in person dictionary')"
   ]
  },
  {
   "cell_type": "code",
   "execution_count": 17,
   "id": "1d135d6e-42d0-4a0d-b935-cb90a3b49f4b",
   "metadata": {},
   "outputs": [
    {
     "name": "stdout",
     "output_type": "stream",
     "text": [
      "He is a front end developer\n"
     ]
    }
   ],
   "source": [
    "# * If a person skills has only JavaScript and React, print('He is a front end developer'), if the person skills has Node, Python, MongoDB, \n",
    "#print('He is a backend developer'), if the person skills has React, Node and MongoDB, Print('He is a fullstack developer'), else print('unknown title') \n",
    "#- for more accurate results more conditions can be nested!\n",
    "\n",
    "person = {\n",
    "    'first_name':'Ishaya',\n",
    "    'last_name':'Danladi',\n",
    "    'age':25,\n",
    "    'country':'Nigeria',\n",
    "    'is_married':False,\n",
    "    'skills':['React','JavaScript'],\n",
    "    'address':{\n",
    "        'street':'Yawunde Street',\n",
    "        'zipcode': 234247\n",
    "    }\n",
    "}\n",
    "\n",
    "front_end_developer = ['React','JavaScript']\n",
    "skills = person['skills']\n",
    "back_end = ['Node', 'Python', 'MongoDB']\n",
    "full_stack = ['React', 'Node', 'MongoDB']\n",
    "\n",
    "if skills == front_end_developer:\n",
    "    print('He is a front end developer')\n",
    "elif skills == back_end:\n",
    "    print('He is a backend developer')\n",
    "elif skills == full_stack:\n",
    "    Print('He is a fullstack developer')\n",
    "else:\n",
    "    print('unknown title')\n",
    "    "
   ]
  },
  {
   "cell_type": "code",
   "execution_count": 25,
   "id": "c3976f47-7719-4ab7-92f1-4d8ec55c2b7a",
   "metadata": {},
   "outputs": [
    {
     "name": "stdout",
     "output_type": "stream",
     "text": [
      "Ishaya lives in Finland and he is married\n"
     ]
    }
   ],
   "source": [
    "# * If the person is married and if he lives in Finland, print the information in the following format:\n",
    "\n",
    "person = {\n",
    "    'first_name':'Ishaya',\n",
    "    'last_name':'Danladi',\n",
    "    'age':25,\n",
    "    'country':'Finland',\n",
    "    'is_married':True,\n",
    "    'skills':['React','JavaScript'],\n",
    "    'address':{\n",
    "        'street':'Yawunde Street',\n",
    "        'zipcode': 234247\n",
    "    }\n",
    "}\n",
    "\n",
    "if person['is_married'] == True and person['country'] == 'Finland':\n",
    "    print('Ishaya lives in Finland and he is married')\n",
    "else:\n",
    "    print('Ishaya is either not married or does not live in Finland')"
   ]
  },
  {
   "cell_type": "code",
   "execution_count": null,
   "id": "32709758-1ca8-4ded-b129-47b7964cfee4",
   "metadata": {},
   "outputs": [],
   "source": []
  }
 ],
 "metadata": {
  "kernelspec": {
   "display_name": "Python 3 (ipykernel)",
   "language": "python",
   "name": "python3"
  },
  "language_info": {
   "codemirror_mode": {
    "name": "ipython",
    "version": 3
   },
   "file_extension": ".py",
   "mimetype": "text/x-python",
   "name": "python",
   "nbconvert_exporter": "python",
   "pygments_lexer": "ipython3",
   "version": "3.12.4"
  }
 },
 "nbformat": 4,
 "nbformat_minor": 5
}
