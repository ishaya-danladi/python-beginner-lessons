{
 "cells": [
  {
   "cell_type": "code",
   "execution_count": 1,
   "id": "49e97757-9dd9-4f8c-8a34-5300d473063a",
   "metadata": {},
   "outputs": [
    {
     "name": "stdout",
     "output_type": "stream",
     "text": [
      "[]\n",
      "[]\n"
     ]
    }
   ],
   "source": [
    "# 1. Declare an empty list\n",
    "\n",
    "empty_lst = list()\n",
    "empty_lst2 = []\n",
    "\n",
    "print(empty_lst)\n",
    "print(empty_lst2)"
   ]
  },
  {
   "cell_type": "code",
   "execution_count": 21,
   "id": "8a78fa4b-6ebf-4690-aadd-0280ec46723b",
   "metadata": {},
   "outputs": [
    {
     "name": "stdout",
     "output_type": "stream",
     "text": [
      "['Ishaya', 'Danladi', 'Musa', 'Yusuf', 'Daniel']\n",
      "5\n",
      "Ishaya\n",
      "Musa\n",
      "Daniel\n"
     ]
    }
   ],
   "source": [
    "# 2. Declare a list with more than 5 items\n",
    "first_lst = ['Ishaya', 'Danladi', 'Musa', 'Yusuf', 'Daniel']\n",
    "print(first_lst)\n",
    "\n",
    "# 3. Find the length of your list\n",
    "print(len(first_lst))\n",
    "\n",
    "# 4. Get the first item, the middle item and the last item of the list\n",
    "first_item = first_lst[0]\n",
    "middle_item = first_lst[2]\n",
    "last_item = first_lst[4]\n",
    "\n",
    "print(first_item)\n",
    "print(middle_item)\n",
    "print(last_item)"
   ]
  },
  {
   "cell_type": "code",
   "execution_count": 31,
   "id": "75507b50-8aaa-4dd0-bf69-7e160ac95cd9",
   "metadata": {},
   "outputs": [
    {
     "name": "stdout",
     "output_type": "stream",
     "text": [
      "['Ishaya', 25, 1.67, 'Single', 'Tunfure']\n",
      "['Facebook', 'Google', 'Microsoft', 'Apple', 'IBM', 'Oracle', 'Amazon']\n",
      "5\n",
      "7\n",
      "Facebook\n",
      "Apple\n",
      "Amazon\n",
      "['Twitter', 'Google', 'Microsoft', 'Apple', 'IBM', 'Oracle', 'Amazon']\n"
     ]
    }
   ],
   "source": [
    "# 5.Declare a list called mixed_data_types, put your(name, age, height, marital status, address)\n",
    "mixed_data_types = ['Ishaya', 25, 1.67, 'Single', 'Tunfure']\n",
    "\n",
    "# 6. Declare a list variable named it_companies and assign initial values Facebook, Google, Microsoft, Apple, IBM, Oracle and Amazon.\n",
    "companies = ['Facebook', 'Google', 'Microsoft', 'Apple', 'IBM', 'Oracle', 'Amazon']\n",
    "\n",
    "# 7. Print the list using _print()\n",
    "print(mixed_data_types)\n",
    "print(companies)\n",
    "\n",
    "# 8. Print the number of companies in the list\n",
    "print(len(mixed_data_types))\n",
    "print(len(companies))\n",
    "\n",
    "# 9. Print the first, middle and last company\n",
    "first_company = companies[0]\n",
    "middle_company = companies[3]\n",
    "last_company = companies[-1]\n",
    "\n",
    "print(first_company)\n",
    "print(middle_company)\n",
    "print(last_company)\n",
    "\n",
    "# 10.  Print the list after modifying one of the companies\n",
    "companies = ['Facebook', 'Google', 'Microsoft', 'Apple', 'IBM', 'Oracle', 'Amazon']\n",
    "companies[0] = 'Twitter'\n",
    "print(companies)"
   ]
  },
  {
   "cell_type": "code",
   "execution_count": 37,
   "id": "d33cee75-b289-432a-936c-47252e24673d",
   "metadata": {},
   "outputs": [
    {
     "name": "stdout",
     "output_type": "stream",
     "text": [
      "['Facebook', 'Google', 'Microsoft', 'Apple', 'IBM', 'Oracle', 'Amazon', 'Instagram']\n",
      "['Facebook', 'Google', 'WhatsApp', 'Microsoft', 'Apple', 'IBM', 'Oracle', 'Amazon', 'Instagram']\n"
     ]
    }
   ],
   "source": [
    "# 11. Add an IT company to it_companies\n",
    "companies = ['Facebook', 'Google', 'Microsoft', 'Apple', 'IBM', 'Oracle', 'Amazon']\n",
    "companies.append('Instagram')\n",
    "print(companies)\n",
    "\n",
    "companies.insert(2,'WhatsApp')\n",
    "print(companies)"
   ]
  },
  {
   "cell_type": "code",
   "execution_count": 39,
   "id": "e682d3b0-59eb-436b-9ab1-4a8126b1f9f4",
   "metadata": {},
   "outputs": [
    {
     "name": "stdout",
     "output_type": "stream",
     "text": [
      "['Facebook', 'Google', 'Microsoft', 'WhatsApp', 'Apple', 'IBM', 'Oracle', 'Amazon']\n"
     ]
    }
   ],
   "source": [
    "# 12. Insert an IT company in the middle of the companies list\n",
    "companies = ['Facebook', 'Google', 'Microsoft', 'Apple', 'IBM', 'Oracle', 'Amazon']\n",
    "companies.insert(3,'WhatsApp')\n",
    "print(companies)\n"
   ]
  },
  {
   "cell_type": "code",
   "execution_count": 43,
   "id": "09188374-166c-4750-b12e-a22e871a2609",
   "metadata": {},
   "outputs": [
    {
     "name": "stdout",
     "output_type": "stream",
     "text": [
      "['FACEBOOK', 'Google', 'Microsoft', 'Apple', 'IBM', 'Oracle', 'Amazon']\n"
     ]
    }
   ],
   "source": [
    "# 13. Change one of the it_companies names to uppercase (IBM excluded!)\n",
    "companies = ['Facebook', 'Google', 'Microsoft', 'Apple', 'IBM', 'Oracle', 'Amazon']\n",
    "companies[0] = 'FACEBOOK'\n",
    "print(companies)"
   ]
  },
  {
   "cell_type": "code",
   "execution_count": 45,
   "id": "0dc72ba9-b414-4378-9fd4-bad3c7170f41",
   "metadata": {},
   "outputs": [
    {
     "name": "stdout",
     "output_type": "stream",
     "text": [
      "['Facebook', 'Google', 'Microsoft', 'Apple', 'IBM', 'Oracle', 'Amazon', '#', ';', '&', 'n', 'b', 's', 'p', ';', ' ']\n"
     ]
    }
   ],
   "source": [
    "# 14. Join the it_companies with a string '#;&nbsp; '\n",
    "companies = ['Facebook', 'Google', 'Microsoft', 'Apple', 'IBM', 'Oracle', 'Amazon']\n",
    "companies.extend('#;&nbsp; ')\n",
    "print(companies)"
   ]
  },
  {
   "cell_type": "code",
   "execution_count": 52,
   "id": "08bf1bdf-40a2-4917-ac70-fe20e0651338",
   "metadata": {},
   "outputs": [
    {
     "name": "stdout",
     "output_type": "stream",
     "text": [
      "Checking if Toyota is in the list of companies: False\n"
     ]
    }
   ],
   "source": [
    "# 15. Check if a certain company exists in the it_companies list.\n",
    "companies = ['Facebook', 'Google', 'Microsoft', 'Apple', 'IBM', 'Oracle', 'Amazon']\n",
    "print('Checking if Toyota is in the list of companies:', 'Toyota' in companies)"
   ]
  },
  {
   "cell_type": "code",
   "execution_count": 58,
   "id": "507da3c8-0ffa-4901-8364-7f07d6fd9670",
   "metadata": {},
   "outputs": [
    {
     "name": "stdout",
     "output_type": "stream",
     "text": [
      "['Amazon', 'Apple', 'Facebook', 'Google', 'IBM', 'Microsoft', 'Oracle']\n",
      "['Oracle', 'Microsoft', 'IBM', 'Google', 'Facebook', 'Apple', 'Amazon']\n"
     ]
    }
   ],
   "source": [
    "# 16. Sort the list using sort() method\n",
    "\n",
    "companies = ['Facebook', 'Google', 'Microsoft', 'Apple', 'IBM', 'Oracle', 'Amazon']\n",
    "\n",
    "companies.sort() #Ascending\n",
    "print(companies)\n",
    "\n",
    "# 17. Reverse the list in descending order using reverse() method\n",
    "\n",
    "companies.sort(reverse = True) # Descending\n",
    "print(companies)"
   ]
  },
  {
   "cell_type": "code",
   "execution_count": 5,
   "id": "4691c4b4-82a5-4579-a500-79a838d74275",
   "metadata": {},
   "outputs": [
    {
     "name": "stdout",
     "output_type": "stream",
     "text": [
      "['Facebook', 'Google', 'Microsoft']\n"
     ]
    }
   ],
   "source": [
    "#18. Slice out the first 3 companies from the list\n",
    "it_companies = ['Facebook', 'Google', 'Microsoft', 'Apple', 'IBM', 'Oracle', 'Amazon']\n",
    "first_three_sliced = it_companies[0:3]\n",
    "print(first_three_sliced)"
   ]
  },
  {
   "cell_type": "code",
   "execution_count": 7,
   "id": "7e63b2d6-e567-4520-99e9-062b1bd30e37",
   "metadata": {},
   "outputs": [
    {
     "name": "stdout",
     "output_type": "stream",
     "text": [
      "['IBM', 'Oracle', 'Amazon']\n"
     ]
    }
   ],
   "source": [
    "#19. Slice out the last 3 companies from the list\n",
    "it_companies = ['Facebook', 'Google', 'Microsoft', 'Apple', 'IBM', 'Oracle', 'Amazon']\n",
    "last_three_sliced = it_companies[4:]\n",
    "print(last_three_sliced)"
   ]
  },
  {
   "cell_type": "code",
   "execution_count": 11,
   "id": "850753eb-16f5-4f1f-8bf9-6be73441b547",
   "metadata": {},
   "outputs": [
    {
     "name": "stdout",
     "output_type": "stream",
     "text": [
      "['Apple']\n"
     ]
    }
   ],
   "source": [
    "#20. Slice out the middle IT company or companies from the list\n",
    "it_companies = ['Facebook', 'Google', 'Microsoft', 'Apple', 'IBM', 'Oracle', 'Amazon']\n",
    "middle_sliced = it_companies[3:4]\n",
    "print(middle_sliced)"
   ]
  },
  {
   "cell_type": "code",
   "execution_count": 20,
   "id": "1ead371d-f6d8-423e-8e7e-1afd0f22c1b1",
   "metadata": {},
   "outputs": [
    {
     "name": "stdout",
     "output_type": "stream",
     "text": [
      "['Google', 'Microsoft', 'Apple', 'IBM', 'Oracle', 'Amazon']\n",
      "['Google', 'Microsoft', 'Apple', 'IBM', 'Oracle', 'Amazon']\n"
     ]
    }
   ],
   "source": [
    "#21. Remove the first IT company from the list\n",
    "\n",
    "it_companies = ['Facebook', 'Google', 'Microsoft', 'Apple', 'IBM', 'Oracle', 'Amazon']\n",
    "it_companies.remove('Facebook')\n",
    "print(it_companies)\n",
    "\n",
    "it_companies = ['Facebook', 'Google', 'Microsoft', 'Apple', 'IBM', 'Oracle', 'Amazon']\n",
    "del it_companies[0]\n",
    "print(it_companies)"
   ]
  },
  {
   "cell_type": "code",
   "execution_count": 28,
   "id": "f44a7dca-762c-433d-89f4-26bb67f79462",
   "metadata": {},
   "outputs": [
    {
     "name": "stdout",
     "output_type": "stream",
     "text": [
      "The middle item is: Apple\n",
      "['Facebook', 'Google', 'Microsoft', 'IBM', 'Oracle', 'Amazon']\n"
     ]
    }
   ],
   "source": [
    "#22. Remove the middle IT company or companies from the list\n",
    "\n",
    "it_companies = ['Facebook', 'Google', 'Microsoft', 'Apple', 'IBM', 'Oracle', 'Amazon']\n",
    "middle_index = len(it_companies) // 2\n",
    "removed_item = it_companies.pop(middle_index)\n",
    "\n",
    "print('The middle item is:',removed_item)\n",
    "print(it_companies)"
   ]
  },
  {
   "cell_type": "code",
   "execution_count": 38,
   "id": "3b7995d9-9fcd-4b60-b9d2-1299600c769d",
   "metadata": {},
   "outputs": [
    {
     "name": "stdout",
     "output_type": "stream",
     "text": [
      "['Facebook', 'Google', 'Microsoft', 'Apple', 'IBM', 'Oracle']\n",
      "['Facebook', 'Google', 'Microsoft', 'Apple', 'IBM', 'Oracle']\n",
      "THe last item in the list is: Amazon\n",
      "['Facebook', 'Google', 'Microsoft', 'Apple', 'IBM', 'Oracle']\n"
     ]
    }
   ],
   "source": [
    "#23. Remove the last IT company from the list\n",
    "\n",
    "it_companies = ['Facebook', 'Google', 'Microsoft', 'Apple', 'IBM', 'Oracle', 'Amazon']\n",
    "it_companies.remove('Amazon')\n",
    "print(it_companies)\n",
    "\n",
    "#Another method\n",
    "it_companies = ['Facebook', 'Google', 'Microsoft', 'Apple', 'IBM', 'Oracle', 'Amazon']\n",
    "del it_companies[-1]\n",
    "print(it_companies)\n",
    "\n",
    "#Another method\n",
    "it_companies = ['Facebook', 'Google', 'Microsoft', 'Apple', 'IBM', 'Oracle', 'Amazon']\n",
    "last_index = len(it_companies) - 1\n",
    "removed_item = it_companies.pop(last_index)\n",
    "print('THe last item in the list is:', removed_item)\n",
    "print(it_companies)"
   ]
  },
  {
   "cell_type": "code",
   "execution_count": 42,
   "id": "02066b9c-4e63-452d-9989-1c45d1b19b36",
   "metadata": {},
   "outputs": [
    {
     "name": "stdout",
     "output_type": "stream",
     "text": [
      "[]\n",
      "[]\n"
     ]
    }
   ],
   "source": [
    "#24. Remove all IT companies from the list\n",
    "it_companies = ['Facebook', 'Google', 'Microsoft', 'Apple', 'IBM', 'Oracle', 'Amazon']\n",
    "it_companies.clear()\n",
    "print(it_companies)\n",
    "\n",
    "#Another method\n",
    "it_companies = ['Facebook', 'Google', 'Microsoft', 'Apple', 'IBM', 'Oracle', 'Amazon']\n",
    "del it_companies[0:]\n",
    "print(it_companies)"
   ]
  },
  {
   "cell_type": "code",
   "execution_count": 46,
   "id": "ba0b8e39-8c73-453e-803e-e64a15041ecc",
   "metadata": {},
   "outputs": [
    {
     "ename": "NameError",
     "evalue": "name 'it_companies' is not defined",
     "output_type": "error",
     "traceback": [
      "\u001b[1;31m---------------------------------------------------------------------------\u001b[0m",
      "\u001b[1;31mNameError\u001b[0m                                 Traceback (most recent call last)",
      "Cell \u001b[1;32mIn[46], line 4\u001b[0m\n\u001b[0;32m      2\u001b[0m it_companies \u001b[38;5;241m=\u001b[39m [\u001b[38;5;124m'\u001b[39m\u001b[38;5;124mFacebook\u001b[39m\u001b[38;5;124m'\u001b[39m, \u001b[38;5;124m'\u001b[39m\u001b[38;5;124mGoogle\u001b[39m\u001b[38;5;124m'\u001b[39m, \u001b[38;5;124m'\u001b[39m\u001b[38;5;124mMicrosoft\u001b[39m\u001b[38;5;124m'\u001b[39m, \u001b[38;5;124m'\u001b[39m\u001b[38;5;124mApple\u001b[39m\u001b[38;5;124m'\u001b[39m, \u001b[38;5;124m'\u001b[39m\u001b[38;5;124mIBM\u001b[39m\u001b[38;5;124m'\u001b[39m, \u001b[38;5;124m'\u001b[39m\u001b[38;5;124mOracle\u001b[39m\u001b[38;5;124m'\u001b[39m, \u001b[38;5;124m'\u001b[39m\u001b[38;5;124mAmazon\u001b[39m\u001b[38;5;124m'\u001b[39m]\n\u001b[0;32m      3\u001b[0m \u001b[38;5;28;01mdel\u001b[39;00m it_companies\n\u001b[1;32m----> 4\u001b[0m \u001b[38;5;28mprint\u001b[39m(it_companies)\n",
      "\u001b[1;31mNameError\u001b[0m: name 'it_companies' is not defined"
     ]
    }
   ],
   "source": [
    "#25. Destroy the IT companies list\n",
    "it_companies = ['Facebook', 'Google', 'Microsoft', 'Apple', 'IBM', 'Oracle', 'Amazon']\n",
    "del it_companies\n",
    "print(it_companies) #This will return an error because the variable has been deleted and completely destroyed. So, it doesn't exist in the code"
   ]
  },
  {
   "cell_type": "code",
   "execution_count": 56,
   "id": "c9389727-3276-432d-839a-c94ced5d0e76",
   "metadata": {},
   "outputs": [
    {
     "name": "stdout",
     "output_type": "stream",
     "text": [
      "['HTML', 'CSS', 'JS', 'React', 'Redux', 'Node', 'Express', 'MongoDB']\n",
      "['HTML', 'CSS', 'JS', 'React', 'Redux', 'Node', 'Express', 'MongoDB']\n",
      "['HTML', 'CSS', 'JS', 'React', 'Redux', 'Python', 'Node', 'Express', 'MongoDB']\n",
      "['HTML', 'CSS', 'JS', 'React', 'Redux', 'Python', 'SQL', 'Node', 'Express', 'MongoDB']\n"
     ]
    }
   ],
   "source": [
    "# 26. Join the following lists:\n",
    "front_end = ['HTML', 'CSS', 'JS', 'React', 'Redux']\n",
    "back_end = ['Node','Express', 'MongoDB']\n",
    "\n",
    "together = front_end + back_end\n",
    "print(together)\n",
    "\n",
    "# 27. After joining the lists in question 26. Copy the joined list and assign it to a variable full_stack. Then insert Python and SQL after Redux.\n",
    "full_stack = together\n",
    "print(full_stack)\n",
    "\n",
    "full_stack.insert(5, 'Python')\n",
    "print(full_stack)\n",
    "\n",
    "full_stack.insert(6, 'SQL')\n",
    "print(full_stack)"
   ]
  },
  {
   "cell_type": "code",
   "execution_count": null,
   "id": "9ce69746-9c2d-45e2-a1ea-930697097599",
   "metadata": {},
   "outputs": [],
   "source": [
    "### EXERCISE LEVEL 2\n",
    "### EXERCISE LEVEL 2\n",
    "### EXERCISE LEVEL 2\n",
    "### EXERCISE LEVEL 2\n",
    "### EXERCISE LEVEL 2\n",
    "### EXERCISE LEVEL 2"
   ]
  },
  {
   "cell_type": "code",
   "execution_count": 113,
   "id": "dcf2fa0c-7b46-4516-b9c6-336c610036d9",
   "metadata": {},
   "outputs": [
    {
     "name": "stdout",
     "output_type": "stream",
     "text": [
      "[19, 19, 20, 22, 24, 24, 24, 25, 25, 26]\n",
      "THe minumum value in the list is: 19\n",
      "THe maximum value in the list is: 26\n",
      "[19, 19, 19, 20, 22, 24, 24, 24, 25, 25, 26, 26]\n",
      "The median age is: 24\n"
     ]
    }
   ],
   "source": [
    "#1. The following is a list of 10 students ages:\n",
    "ages = [19, 22, 19, 24, 20, 25, 26, 24, 25, 24]\n",
    "\n",
    "# - Sort the list and find the min and max age\n",
    "ages.sort()\n",
    "print(ages)\n",
    "\n",
    "minimum_value = min(ages)\n",
    "print('THe minumum value in the list is:', minimum_value)\n",
    "\n",
    "maximum_value = max(ages)\n",
    "print('THe maximum value in the list is:', maximum_value)"
   ]
  },
  {
   "cell_type": "code",
   "execution_count": 119,
   "id": "86bb585a-7664-4133-b30c-6731aaed05e1",
   "metadata": {},
   "outputs": [
    {
     "name": "stdout",
     "output_type": "stream",
     "text": [
      "[19, 19, 19, 19, 20, 22, 24, 25, 25, 26, 26, 26]\n",
      "[19, 19, 19, 19, 19, 20, 22, 24, 25, 25, 26, 26, 26, 26]\n"
     ]
    }
   ],
   "source": [
    "# - Add the min age and the max age again to the list\n",
    "print(ages)\n",
    "ages.append(19)\n",
    "ages.append(26)\n",
    "ages.sort()\n",
    "print(ages)"
   ]
  },
  {
   "cell_type": "code",
   "execution_count": 115,
   "id": "daffc1cd-fd9a-45f2-875b-9153a62cedab",
   "metadata": {},
   "outputs": [
    {
     "name": "stdout",
     "output_type": "stream",
     "text": [
      "The median age is: 24\n"
     ]
    }
   ],
   "source": [
    "# - Find the median age (one middle item or two middle items divided by two)\n",
    "\n",
    "median = len(ages) // 2\n",
    "median_age = ages.pop(median)\n",
    "print('The median age is:', median_age)\n"
   ]
  },
  {
   "cell_type": "code",
   "execution_count": 129,
   "id": "38eafa09-d9a5-4b17-ad66-7a2e554eab7b",
   "metadata": {},
   "outputs": [
    {
     "name": "stdout",
     "output_type": "stream",
     "text": [
      "[19, 19, 19, 19, 19, 20, 22, 24, 25, 25, 26, 26, 26, 26]\n",
      "The average of the list of ages above is: 22.5\n"
     ]
    }
   ],
   "source": [
    "# - Find the average age (sum of all items divided by their number )\n",
    "\n",
    "print(ages)\n",
    "average = sum(ages) / len(ages)\n",
    "print('The average of the list of ages above is:', average)"
   ]
  },
  {
   "cell_type": "code",
   "execution_count": 134,
   "id": "c62e2d45-3d42-4e15-8689-b98c2edce31a",
   "metadata": {},
   "outputs": [
    {
     "name": "stdout",
     "output_type": "stream",
     "text": [
      "[19, 19, 19, 19, 19, 20, 22, 24, 25, 25, 26, 26, 26, 26]\n",
      "The range of the list of ages above is: 7\n"
     ]
    }
   ],
   "source": [
    "# - Find the range of the ages (max minus min)\n",
    "\n",
    "print(ages)\n",
    "ages_range = max(ages) - min(ages)\n",
    "\n",
    "print('The range of the list of ages above is:', ages_range)"
   ]
  },
  {
   "cell_type": "code",
   "execution_count": 148,
   "id": "4d3786ae-0dc9-40e8-9f87-f7795cb44d59",
   "metadata": {},
   "outputs": [
    {
     "name": "stdout",
     "output_type": "stream",
     "text": [
      "-3.5\n",
      "3.5\n",
      "Absolute value of a: 3.5\n",
      "Absolute value of b: 3.5\n",
      "Check if they are equal: True\n"
     ]
    }
   ],
   "source": [
    "# - Compare the value of (min - average) and (max - average), use _abs()_ method\n",
    "\n",
    "a = min(ages) - average\n",
    "b = max(ages) - average\n",
    "\n",
    "print(a)\n",
    "print(b)\n",
    "\n",
    "print('Absolute value of a:', abs(a))\n",
    "print('Absolute value of b:', abs(b))\n",
    "\n",
    "check = abs(a) == abs(b)\n",
    "print ('Check if they are equal:', check)"
   ]
  },
  {
   "cell_type": "code",
   "execution_count": 165,
   "id": "9e5cc0a1-edb7-4078-b139-7081d4e139df",
   "metadata": {},
   "outputs": [
    {
     "name": "stdout",
     "output_type": "stream",
     "text": [
      "['Afghanistan', 'Albania', 'Algeria', 'Andorra', 'Angola', 'Antigua and Barbuda', 'Argentina', 'Armenia', 'Australia', 'Austria', 'Azerbaijan', 'Bahamas', 'Bahrain', 'Bangladesh', 'Barbados', 'Belarus', 'Belgium', 'Belize', 'Benin', 'Bhutan', 'Bolivia', 'Bosnia and Herzegovina', 'Botswana', 'Brazil', 'Brunei', 'Bulgaria', 'Burkina Faso', 'Burundi', 'Cambodia', 'Cameroon', 'Canada', 'Cape Verde', 'Central African Republic', 'Chad', 'Chile', 'China', 'Colombi', 'Comoros', 'Congo (Brazzaville)', 'Congo', 'Costa Rica', \"Cote d'Ivoire\", 'Croatia', 'Cuba', 'Cyprus', 'Czech Republic', 'Denmark', 'Djibouti', 'Dominica', 'Dominican Republic', 'East Timor (Timor Timur)', 'Ecuador', 'Egypt', 'El Salvador', 'Equatorial Guinea', 'Eritrea', 'Estonia', 'Ethiopia', 'Fiji', 'Finland', 'France', 'Gabon', 'Gambia, The', 'Georgia', 'Germany', 'Ghana', 'Greece', 'Grenada', 'Guatemala', 'Guinea', 'Guinea-Bissau', 'Guyana', 'Haiti', 'Honduras', 'Hungary', 'Iceland', 'India', 'Indonesia', 'Iran', 'Iraq', 'Ireland', 'Israel', 'Italy', 'Jamaica', 'Japan', 'Jordan', 'Kazakhstan', 'Kenya', 'Kiribati', 'Korea, North', 'Korea, South', 'Kuwait', 'Kyrgyzstan', 'Laos', 'Latvia', 'Lebanon', 'Lesotho', 'Liberia', 'Libya', 'Liechtenstein', 'Lithuania', 'Luxembourg', 'Macedonia', 'Madagascar', 'Malawi', 'Malaysia', 'Maldives', 'Mali', 'Malta', 'Marshall Islands', 'Mauritania', 'Mauritius', 'Mexico', 'Micronesia', 'Moldova', 'Monaco', 'Mongolia', 'Morocco', 'Mozambique', 'Myanmar', 'Namibia', 'Nauru', 'Nepal', 'Netherlands', 'New Zealand', 'Nicaragua', 'Niger', 'Nigeria', 'Norway', 'Oman', 'Pakistan', 'Palau', 'Panama', 'Papua New Guinea', 'Paraguay', 'Peru', 'Philippines', 'Poland', 'Portugal', 'Qatar', 'Romania', 'Russia', 'Rwanda', 'Saint Kitts and Nevis', 'Saint Lucia', 'Saint Vincent', 'Samoa', 'San Marino', 'Sao Tome and Principe', 'Saudi Arabia', 'Senegal', 'Serbia and Montenegro', 'Seychelles', 'Sierra Leone', 'Singapore', 'Slovakia', 'Slovenia', 'Solomon Islands', 'Somalia', 'South Africa', 'Spain', 'Sri Lanka', 'Sudan', 'Suriname', 'Swaziland', 'Sweden', 'Switzerland', 'Syria', 'Taiwan', 'Tajikistan', 'Tanzania', 'Thailand', 'Togo', 'Tonga', 'Trinidad and Tobago', 'Tunisia', 'Turkey', 'Turkmenistan', 'Tuvalu', 'Uganda', 'Ukraine', 'United Arab Emirates', 'United Kingdom', 'United States', 'Uruguay', 'Uzbekistan', 'Vanuatu', 'Vatican City', 'Venezuela', 'Vietnam', 'Yemen', 'Zambia', 'Zimbabwe']\n",
      "\n",
      "The middle country in the list of countries of the world is: Lesotho\n",
      "The position of Nigeria in the list is: 126\n"
     ]
    }
   ],
   "source": [
    "# Find the middle country(ies) in the [countries list]\n",
    "countries = [\n",
    "  'Afghanistan',\n",
    "  'Albania',\n",
    "  'Algeria',\n",
    "  'Andorra',\n",
    "  'Angola',\n",
    "  'Antigua and Barbuda',\n",
    "  'Argentina',\n",
    "  'Armenia',\n",
    "  'Australia',\n",
    "  'Austria',\n",
    "  'Azerbaijan',\n",
    "  'Bahamas',\n",
    "  'Bahrain',\n",
    "  'Bangladesh',\n",
    "  'Barbados',\n",
    "  'Belarus',\n",
    "  'Belgium',\n",
    "  'Belize',\n",
    "  'Benin',\n",
    "  'Bhutan',\n",
    "  'Bolivia',\n",
    "  'Bosnia and Herzegovina',\n",
    "  'Botswana',\n",
    "  'Brazil',\n",
    "  'Brunei',\n",
    "  'Bulgaria',\n",
    "  'Burkina Faso',\n",
    "  'Burundi',\n",
    "  'Cambodia',\n",
    "  'Cameroon',\n",
    "  'Canada',\n",
    "  'Cape Verde',\n",
    "  'Central African Republic',\n",
    "  'Chad',\n",
    "  'Chile',\n",
    "  'China',\n",
    "  'Colombi',\n",
    "  'Comoros',\n",
    "  'Congo (Brazzaville)',\n",
    "  'Congo',\n",
    "  'Costa Rica',\n",
    "  \"Cote d'Ivoire\",\n",
    "  'Croatia',\n",
    "  'Cuba',\n",
    "  'Cyprus',\n",
    "  'Czech Republic',\n",
    "  'Denmark',\n",
    "  'Djibouti',\n",
    "  'Dominica',\n",
    "  'Dominican Republic',\n",
    "  'East Timor (Timor Timur)',\n",
    "  'Ecuador',\n",
    "  'Egypt',\n",
    "  'El Salvador',\n",
    "  'Equatorial Guinea',\n",
    "  'Eritrea',\n",
    "  'Estonia',\n",
    "  'Ethiopia',\n",
    "  'Fiji',\n",
    "  'Finland',\n",
    "  'France',\n",
    "  'Gabon',\n",
    "  'Gambia, The',\n",
    "  'Georgia',\n",
    "  'Germany',\n",
    "  'Ghana',\n",
    "  'Greece',\n",
    "  'Grenada',\n",
    "  'Guatemala',\n",
    "  'Guinea',\n",
    "  'Guinea-Bissau',\n",
    "  'Guyana',\n",
    "  'Haiti',\n",
    "  'Honduras',\n",
    "  'Hungary',\n",
    "  'Iceland',\n",
    "  'India',\n",
    "  'Indonesia',\n",
    "  'Iran',\n",
    "  'Iraq',\n",
    "  'Ireland',\n",
    "  'Israel',\n",
    "  'Italy',\n",
    "  'Jamaica',\n",
    "  'Japan',\n",
    "  'Jordan',\n",
    "  'Kazakhstan',\n",
    "  'Kenya',\n",
    "  'Kiribati',\n",
    "  'Korea, North',\n",
    "  'Korea, South',\n",
    "  'Kuwait',\n",
    "  'Kyrgyzstan',\n",
    "  'Laos',\n",
    "  'Latvia',\n",
    "  'Lebanon',\n",
    "  'Lesotho',\n",
    "  'Liberia',\n",
    "  'Libya',\n",
    "  'Liechtenstein',\n",
    "  'Lithuania',\n",
    "  'Luxembourg',\n",
    "  'Macedonia',\n",
    "  'Madagascar',\n",
    "  'Malawi',\n",
    "  'Malaysia',\n",
    "  'Maldives',\n",
    "  'Mali',\n",
    "  'Malta',\n",
    "  'Marshall Islands',\n",
    "  'Mauritania',\n",
    "  'Mauritius',\n",
    "  'Mexico',\n",
    "  'Micronesia',\n",
    "  'Moldova',\n",
    "  'Monaco',\n",
    "  'Mongolia',\n",
    "  'Morocco',\n",
    "  'Mozambique',\n",
    "  'Myanmar',\n",
    "  'Namibia',\n",
    "  'Nauru',\n",
    "  'Nepal',\n",
    "  'Netherlands',\n",
    "  'New Zealand',\n",
    "  'Nicaragua',\n",
    "  'Niger',\n",
    "  'Nigeria',\n",
    "  'Norway',\n",
    "  'Oman',\n",
    "  'Pakistan',\n",
    "  'Palau',\n",
    "  'Panama',\n",
    "  'Papua New Guinea',\n",
    "  'Paraguay',\n",
    "  'Peru',\n",
    "  'Philippines',\n",
    "  'Poland',\n",
    "  'Portugal',\n",
    "  'Qatar',\n",
    "  'Romania',\n",
    "  'Russia',\n",
    "  'Rwanda',\n",
    "  'Saint Kitts and Nevis',\n",
    "  'Saint Lucia',\n",
    "  'Saint Vincent',\n",
    "  'Samoa',\n",
    "  'San Marino',\n",
    "  'Sao Tome and Principe',\n",
    "  'Saudi Arabia',\n",
    "  'Senegal',\n",
    "  'Serbia and Montenegro',\n",
    "  'Seychelles',\n",
    "  'Sierra Leone',\n",
    "  'Singapore',\n",
    "  'Slovakia',\n",
    "  'Slovenia',\n",
    "  'Solomon Islands',\n",
    "  'Somalia',\n",
    "  'South Africa',\n",
    "  'Spain',\n",
    "  'Sri Lanka',\n",
    "  'Sudan',\n",
    "  'Suriname',\n",
    "  'Swaziland',\n",
    "  'Sweden',\n",
    "  'Switzerland',\n",
    "  'Syria',\n",
    "  'Taiwan',\n",
    "  'Tajikistan',\n",
    "  'Tanzania',\n",
    "  'Thailand',\n",
    "  'Togo',\n",
    "  'Tonga',\n",
    "  'Trinidad and Tobago',\n",
    "  'Tunisia',\n",
    "  'Turkey',\n",
    "  'Turkmenistan',\n",
    "  'Tuvalu',\n",
    "  'Uganda',\n",
    "  'Ukraine',\n",
    "  'United Arab Emirates',\n",
    "  'United Kingdom',\n",
    "  'United States',\n",
    "  'Uruguay',\n",
    "  'Uzbekistan',\n",
    "  'Vanuatu',\n",
    "  'Vatican City',\n",
    "  'Venezuela',\n",
    "  'Vietnam',\n",
    "  'Yemen',\n",
    "  'Zambia',\n",
    "  'Zimbabwe',\n",
    "];\n",
    "print(countries)\n",
    "\n",
    "### To find the middle country\n",
    "\n",
    "middle_countries = len(countries) // 2\n",
    "\n",
    "middle = countries.pop(middle_countries)\n",
    "print()\n",
    "print('The middle country in the list of countries of the world is:', middle)\n",
    "\n",
    "# Position of Nigeria in the list\n",
    "index =countries.index('Nigeria')\n",
    "print('The position of Nigeria in the list is:',index)"
   ]
  },
  {
   "cell_type": "code",
   "execution_count": 171,
   "id": "6198d7e2-dd96-43d1-bcb1-d8cefb40a39b",
   "metadata": {},
   "outputs": [
    {
     "name": "stdout",
     "output_type": "stream",
     "text": [
      "['China', 'Russia', 'USA']\n"
     ]
    }
   ],
   "source": [
    "# Unpack the first three countries and the rest as scandic countries.\n",
    "\n",
    "countries = ['China', 'Russia', 'USA', 'Finland', 'Sweden', 'Norway', 'Denmark']\n",
    "*scandic_countries, first, second, third, fourth = countries\n",
    "\n",
    "print(scandic_countries)"
   ]
  },
  {
   "cell_type": "code",
   "execution_count": null,
   "id": "b1ff10ee-62fd-4676-9dc7-dda868ea0402",
   "metadata": {},
   "outputs": [],
   "source": []
  }
 ],
 "metadata": {
  "kernelspec": {
   "display_name": "Python 3 (ipykernel)",
   "language": "python",
   "name": "python3"
  },
  "language_info": {
   "codemirror_mode": {
    "name": "ipython",
    "version": 3
   },
   "file_extension": ".py",
   "mimetype": "text/x-python",
   "name": "python",
   "nbconvert_exporter": "python",
   "pygments_lexer": "ipython3",
   "version": "3.12.4"
  }
 },
 "nbformat": 4,
 "nbformat_minor": 5
}
