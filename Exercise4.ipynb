{
 "cells": [
  {
   "cell_type": "markdown",
   "id": "6096de29-5289-4f7d-9e5e-5bc2d0e2854d",
   "metadata": {},
   "source": []
  },
  {
   "cell_type": "code",
   "execution_count": 1,
   "id": "975d867d-ee4e-4f5c-b832-3beff4a00069",
   "metadata": {},
   "outputs": [
    {
     "name": "stdout",
     "output_type": "stream",
     "text": [
      "Thirty Days of Python\n"
     ]
    }
   ],
   "source": [
    "# 1. Concatenate the string 'Thirty', 'Days', 'Of', 'Python' to a single string, 'Thirty Days Of Python'.\n",
    "a = 'Thirty'\n",
    "b = 'Days'\n",
    "c = 'of'\n",
    "d = 'Python'\n",
    "space = ' ' \n",
    "\n",
    "title = a + space + b + space + c + space + d\n",
    "\n",
    "print(title)"
   ]
  },
  {
   "cell_type": "code",
   "execution_count": 3,
   "id": "eb4af427-ca9f-4ec0-9b51-c07c54e2ba92",
   "metadata": {},
   "outputs": [
    {
     "name": "stdout",
     "output_type": "stream",
     "text": [
      "Coding For All\n"
     ]
    }
   ],
   "source": [
    "# 2. Concatenate the string 'Coding', 'For' , 'All' to a single string, 'Coding For All'.\n",
    "a = 'Coding'\n",
    "b = 'For'\n",
    "c = 'All'\n",
    "space = ' ' \n",
    "\n",
    "all = a + space + b + space + c\n",
    "\n",
    "print(all)"
   ]
  },
  {
   "cell_type": "code",
   "execution_count": 9,
   "id": "d02ba642-bf97-458a-9209-b0cded61b478",
   "metadata": {},
   "outputs": [
    {
     "name": "stdout",
     "output_type": "stream",
     "text": [
      "Coding For All\n",
      "14\n"
     ]
    }
   ],
   "source": [
    "# 3. Declare a variable named company and assign it to an initial value \"Coding For All\".\n",
    "# 4.  Print the variable company using _print()_.\n",
    "\n",
    "company = a + space + b + space + c\n",
    "print(company)\n",
    "\n",
    "# 5. Print the length of the company string using _len()_ method and _print()_.\n",
    "\n",
    "print(len(company))"
   ]
  },
  {
   "cell_type": "code",
   "execution_count": 15,
   "id": "8cd8f714-a51e-4fd3-a99b-a1e19bdd40cd",
   "metadata": {},
   "outputs": [
    {
     "name": "stdout",
     "output_type": "stream",
     "text": [
      "Coding For All\n",
      "CODING FOR ALL\n",
      "coding for all\n"
     ]
    }
   ],
   "source": [
    "# 6. Change all the characters to uppercase letters using _upper()_ method.\n",
    "print(company)\n",
    "\n",
    "uppercase = company.upper()\n",
    "print(uppercase)\n",
    "\n",
    "# 7. Change all the characters to lowercase letters using _lower()_ method.\n",
    "lowercase = company.lower()\n",
    "print(lowercase)"
   ]
  },
  {
   "cell_type": "code",
   "execution_count": 3,
   "id": "899d9705-5043-4f87-9294-d7ba5f92d22b",
   "metadata": {},
   "outputs": [
    {
     "name": "stdout",
     "output_type": "stream",
     "text": [
      "Coding For ALL\n",
      "Coding for all\n",
      "Coding For All\n"
     ]
    }
   ],
   "source": [
    "# 8. Use capitalize(), title(), swapcase() methods to format the value of the string _Coding For All_.\n",
    "statement = 'Coding For ALL'\n",
    "print(statement)\n",
    "print(statement.capitalize())\n",
    "print(statement.title())"
   ]
  },
  {
   "cell_type": "code",
   "execution_count": 25,
   "id": "702ce990-2cef-462c-b6e7-d3b4b511e142",
   "metadata": {},
   "outputs": [
    {
     "name": "stdout",
     "output_type": "stream",
     "text": [
      "For ALL\n",
      "For ALL\n",
      "For ALL\n"
     ]
    }
   ],
   "source": [
    "# 9. Cut(slice) out the first word of _Coding For All_ string.\n",
    "statement = 'Coding For ALL'\n",
    "words = statement.split()\n",
    "result = ' '.join(words[1:])\n",
    "print(result)\n",
    "\n",
    "#Another way\n",
    "print(statement[7:14])\n",
    "\n",
    "# Another way\n",
    "print(statement[-7:])"
   ]
  },
  {
   "cell_type": "code",
   "execution_count": 39,
   "id": "38cee64b-bcad-4025-89e7-e5fffdaee456",
   "metadata": {},
   "outputs": [
    {
     "name": "stdout",
     "output_type": "stream",
     "text": [
      "0\n",
      "0\n",
      "True\n",
      "True\n"
     ]
    }
   ],
   "source": [
    "# 10. Check if _Coding For All_ string contains a word Coding using the method index, find or other methods.\n",
    "\n",
    "statement = 'Coding For ALL'\n",
    "\n",
    "#Using Index\n",
    "print(statement.index('Coding'))\n",
    "\n",
    "#Using Find. It Returns the index of the first occurrence of a substring, if not found returns -1\n",
    "print(statement.find('Coding'))\n",
    "\n",
    "# Another method that returns boolean.\n",
    "b = statement.find('Coding')\n",
    "print(b == 0)\n",
    "\n",
    "#Another method that checks and return Boolean\n",
    "print(\"Coding\" in statement)"
   ]
  },
  {
   "cell_type": "code",
   "execution_count": 41,
   "id": "57779833-8c03-443c-91c0-4d05be7e8e68",
   "metadata": {},
   "outputs": [
    {
     "name": "stdout",
     "output_type": "stream",
     "text": [
      "Python For ALL\n"
     ]
    }
   ],
   "source": [
    "# 11.  Replace the word coding in the string 'Coding For All' to Python.\n",
    "statement = 'Coding For ALL'\n",
    "print(statement.replace('Coding','Python'))"
   ]
  },
  {
   "cell_type": "code",
   "execution_count": 45,
   "id": "8f37cb5b-a602-420b-82fa-9ee292c2c2de",
   "metadata": {},
   "outputs": [
    {
     "name": "stdout",
     "output_type": "stream",
     "text": [
      "Python fo ALL\n",
      "Python is so Easy\n"
     ]
    }
   ],
   "source": [
    "# 12.  Change Python for Everyone to Python for All using the replace method or other methods.\n",
    "statement = 'Python For Everyone'\n",
    "print(statement.replace('Python For Everyone','Python fo ALL'))\n",
    "\n",
    "statement2 = 'Python is Difficult'\n",
    "print(statement2.replace('Difficult','so Easy'))"
   ]
  },
  {
   "cell_type": "code",
   "execution_count": 53,
   "id": "4186703c-ac80-4b18-934f-6d22c8f69cc1",
   "metadata": {},
   "outputs": [
    {
     "name": "stdout",
     "output_type": "stream",
     "text": [
      "['Coding', 'For', 'All']\n"
     ]
    }
   ],
   "source": [
    "# 13. Split the string 'Coding For All' using space as the separator (split()) \n",
    "statement = 'Coding For All'\n",
    "print(statement.split( ))"
   ]
  },
  {
   "cell_type": "code",
   "execution_count": 59,
   "id": "7f7fed93-1433-423c-bbdd-627d5e70e256",
   "metadata": {},
   "outputs": [
    {
     "name": "stdout",
     "output_type": "stream",
     "text": [
      "['Facebook', 'Google', 'Microsoft', 'Apple', 'IBM', 'Oracle', 'Amazon']\n"
     ]
    }
   ],
   "source": [
    "# 14. \"Facebook, Google, Microsoft, Apple, IBM, Oracle, Amazon\" split the string at the comma.\n",
    "statement = \"Facebook, Google, Microsoft, Apple, IBM, Oracle, Amazon\" \n",
    "print(statement.split(', '))"
   ]
  },
  {
   "cell_type": "code",
   "execution_count": 71,
   "id": "f9095bac-e20c-40aa-b5a4-249472c175d6",
   "metadata": {},
   "outputs": [
    {
     "name": "stdout",
     "output_type": "stream",
     "text": [
      "C\n",
      "i\n",
      "L\n"
     ]
    }
   ],
   "source": [
    "# 15. What is the character at index 0 in the string _Coding For All_.\n",
    "statement = 'Coding For ALL'\n",
    "print(statement[0])\n",
    "\n",
    "print(statement[3])\n",
    "print(statement[-1])"
   ]
  },
  {
   "cell_type": "code",
   "execution_count": 75,
   "id": "990b285e-bd31-41f8-b5d2-f014679386d8",
   "metadata": {},
   "outputs": [
    {
     "name": "stdout",
     "output_type": "stream",
     "text": [
      "L\n",
      "L\n"
     ]
    }
   ],
   "source": [
    "# 16. What is the last index of the string _Coding For All_.\n",
    "statement = 'Coding For ALL'\n",
    "print(statement[-1])\n",
    "print(statement[13])"
   ]
  },
  {
   "cell_type": "code",
   "execution_count": 17,
   "id": "b01f786e-cfa2-4b10-a2b2-e8f68150e74c",
   "metadata": {},
   "outputs": [
    {
     "name": "stdout",
     "output_type": "stream",
     "text": [
      " \n"
     ]
    }
   ],
   "source": [
    "# 17. What character is at index 10 in \"Coding For All\" string.\n",
    "statement = 'Coding For ALL'\n",
    "print(statement[10])"
   ]
  },
  {
   "cell_type": "code",
   "execution_count": 93,
   "id": "17031f03-0f01-43ed-8030-5809c3cf8a16",
   "metadata": {},
   "outputs": [
    {
     "name": "stdout",
     "output_type": "stream",
     "text": [
      "PFE\n"
     ]
    }
   ],
   "source": [
    "# 18. Create an acronym or an abbreviation for the name 'Python For Everyone'.\n",
    "statement1 = 'Python For Everyone'\n",
    "\n",
    "acronym = statement1.split()\n",
    "\n",
    "create_acronym = ''.join(word[0].upper() for word in acronym )\n",
    "print(create_acronym)\n"
   ]
  },
  {
   "cell_type": "code",
   "execution_count": 107,
   "id": "dc779cc9-4c88-465d-958b-3afa289458ca",
   "metadata": {},
   "outputs": [
    {
     "name": "stdout",
     "output_type": "stream",
     "text": [
      "CFA\n",
      "NAMSS\n"
     ]
    }
   ],
   "source": [
    "# 19. Create an acronym or an abbreviation for the name 'Coding For All'.\n",
    "statement = 'Coding For ALL'\n",
    "\n",
    "acronym_split = statement.split()\n",
    "\n",
    "create_acronym = ''.join(word[0].upper() for word in acronym_split)\n",
    "\n",
    "print(create_acronym)\n",
    "\n",
    "# example\n",
    "statement = 'National Association of Mathematical Science Students'\n",
    "\n",
    "statement2 = statement.replace('of','')\n",
    "\n",
    "first = statement2.split()\n",
    "\n",
    "second = ''.join(word[0].upper() for word in first)\n",
    "\n",
    "print(second)"
   ]
  },
  {
   "cell_type": "code",
   "execution_count": 7,
   "id": "0fb47c83-e959-4767-a3cd-42e1357a5913",
   "metadata": {},
   "outputs": [
    {
     "name": "stdin",
     "output_type": "stream",
     "text": [
      "Enter letter: C\n"
     ]
    },
    {
     "name": "stdout",
     "output_type": "stream",
     "text": [
      "0\n",
      "The first occurence of C is at the index 0\n"
     ]
    }
   ],
   "source": [
    "# 20. Use index to determine the position of the first occurrence of C in Coding For All.\n",
    "text = 'Coding For All'\n",
    "a = input('Enter letter:')\n",
    "position_of_C = text.find(a)\n",
    "print(position_of_C)\n",
    "\n",
    "if position_of_C == 0:\n",
    "    print(f'The first occurence of C is at the index {position_of_C}')\n",
    "else:\n",
    "    print(f'C not found in the text')"
   ]
  },
  {
   "cell_type": "code",
   "execution_count": 1,
   "id": "18a838d0-8941-4ece-89bb-eca9df40b7de",
   "metadata": {},
   "outputs": [
    {
     "name": "stdout",
     "output_type": "stream",
     "text": [
      "7\n"
     ]
    }
   ],
   "source": [
    "# 21. Use index to determine the position of the first occurrence of F in Coding For All.\n",
    "statement = 'Coding For All'\n",
    "position_of_F = statement.index('F')\n",
    "print(position_of_F)"
   ]
  },
  {
   "cell_type": "code",
   "execution_count": 9,
   "id": "18e6f21b-10c3-4726-a440-f9de1a3b2e5c",
   "metadata": {},
   "outputs": [
    {
     "name": "stdout",
     "output_type": "stream",
     "text": [
      "19\n"
     ]
    }
   ],
   "source": [
    "# 22. Use rfind to determine the position of the last occurrence of l in Coding For All People.\n",
    "statement = 'Coding For All people'\n",
    "last_occurence_of_L = statement.rfind('l')\n",
    "print(last_occurence_of_L)"
   ]
  },
  {
   "cell_type": "code",
   "execution_count": 11,
   "id": "eef1c9de-7705-46eb-a58d-8be80e02b997",
   "metadata": {},
   "outputs": [
    {
     "name": "stdout",
     "output_type": "stream",
     "text": [
      "31\n",
      "31\n"
     ]
    }
   ],
   "source": [
    "# 23. Use index or find to find the position of the first occurrence of the word 'because' in the following sentence: 'You cannot end a sentence with because because because is a conjunction'\n",
    "\n",
    "statement = 'You cannot end a sentence with because because because is a conjunction'\n",
    "\n",
    "first_occurence_of_word_because = statement.index('because')\n",
    "first_occurence = statement.find('because')\n",
    "\n",
    "print(first_occurence_of_word_because)\n",
    "print(first_occurence)\n"
   ]
  },
  {
   "cell_type": "code",
   "execution_count": 13,
   "id": "9eee0a01-52a4-47f5-bb69-b80ce530c528",
   "metadata": {},
   "outputs": [
    {
     "name": "stdout",
     "output_type": "stream",
     "text": [
      "47\n",
      "47\n"
     ]
    }
   ],
   "source": [
    "# 24. Use rindex to find the position of the last occurrence of the word because in the following sentence: 'You cannot end a sentence with because because because is a conjunction'\n",
    "\n",
    "statement = 'You cannot end a sentence with because because because is a conjunction'\n",
    "\n",
    "last_occurence1 = statement.rindex('because')\n",
    "last_occurence2 = statement.rfind('because')\n",
    "\n",
    "print(last_occurence1)\n",
    "print(last_occurence2)"
   ]
  },
  {
   "cell_type": "code",
   "execution_count": 24,
   "id": "9a51c8b3-1599-486e-8aa6-a7cc191a19e7",
   "metadata": {},
   "outputs": [
    {
     "name": "stdout",
     "output_type": "stream",
     "text": [
      "because because because\n"
     ]
    }
   ],
   "source": [
    "# 25. Slice out the phrase 'because because because' in the following sentence: 'You cannot end a sentence with because because because is a conjunction' \n",
    "\n",
    "statement = 'You cannot end a sentence with because because because is a conjunction'\n",
    "phrase = 'because because because'\n",
    "\n",
    "start_index = statement.find(phrase)\n",
    "\n",
    "extracted = statement[start_index:start_index + len(phrase)]\n",
    "print(extracted)\n"
   ]
  },
  {
   "cell_type": "code",
   "execution_count": 26,
   "id": "c357ade6-e41e-4eb7-a29b-59029ece04a5",
   "metadata": {},
   "outputs": [
    {
     "name": "stdout",
     "output_type": "stream",
     "text": [
      "31\n",
      "31\n"
     ]
    }
   ],
   "source": [
    "# 26. Find the position of the first occurrence of the word 'because' in the following sentence: 'You cannot end a sentence with because because because is a conjunction'\n",
    "\n",
    "statement = 'You cannot end a sentence with because because because is a conjunction'\n",
    "\n",
    "first_occurence_of_word_because = statement.index('because')\n",
    "first_occurence = statement.find('because')\n",
    "\n",
    "print(first_occurence_of_word_because)\n",
    "print(first_occurence)\n"
   ]
  },
  {
   "cell_type": "code",
   "execution_count": 28,
   "id": "40b55dce-46be-4efc-adc2-5f7140becd07",
   "metadata": {},
   "outputs": [
    {
     "name": "stdout",
     "output_type": "stream",
     "text": [
      "because because because\n"
     ]
    }
   ],
   "source": [
    "# 27. Slice out the phrase 'because because because' in the following sentence: 'You cannot end a sentence with because because because is a conjunction'\n",
    "\n",
    "statement = 'You cannot end a sentence with because because because is a conjunction'\n",
    "phrase = 'because because because'\n",
    "\n",
    "start_index = statement.find(phrase)\n",
    "\n",
    "extracted = statement[start_index:start_index + len(phrase)]\n",
    "print(extracted)"
   ]
  },
  {
   "cell_type": "code",
   "execution_count": 32,
   "id": "6e301df3-190f-4d20-871f-28fae4f5c11b",
   "metadata": {},
   "outputs": [
    {
     "name": "stdout",
     "output_type": "stream",
     "text": [
      "False\n"
     ]
    }
   ],
   "source": [
    "# 28. Does '\\'Coding For All' start with a substring _Coding_?\n",
    "\n",
    "statement = '\\'Coding For All'\n",
    "\n",
    "check = statement.startswith('Coding')\n",
    "\n",
    "print(check)"
   ]
  },
  {
   "cell_type": "code",
   "execution_count": 34,
   "id": "e00ea89d-0eef-4bcc-9d15-2ad6ddb81df3",
   "metadata": {},
   "outputs": [
    {
     "name": "stdout",
     "output_type": "stream",
     "text": [
      "False\n"
     ]
    }
   ],
   "source": [
    "# 29. Does 'Coding For All' end with a substring _coding_?\n",
    "\n",
    "statement = 'Coding For All'\n",
    "\n",
    "check = statement.endswith('coding')\n",
    "\n",
    "print(check)"
   ]
  },
  {
   "cell_type": "code",
   "execution_count": 38,
   "id": "12f215e3-d6f5-48e3-bfa3-6a8f848c9071",
   "metadata": {},
   "outputs": [
    {
     "name": "stdout",
     "output_type": "stream",
     "text": [
      " Coding For All   \n"
     ]
    }
   ],
   "source": [
    "# 30. '&nbsp;&nbsp; Coding For All &nbsp;&nbsp;&nbsp; &nbsp;' &nbsp;, remove the left and right trailing spaces in the given string.\n",
    "\n",
    "statement = '&nbsp;&nbsp; Coding For All &nbsp;&nbsp;&nbsp; &nbsp; &nbsp;'\n",
    "check = '&nbsp;'\n",
    "print(statement.replace(check,''))"
   ]
  },
  {
   "cell_type": "code",
   "execution_count": 42,
   "id": "41470045-1a90-4030-b45d-7a72eb511cfd",
   "metadata": {},
   "outputs": [
    {
     "name": "stdout",
     "output_type": "stream",
     "text": [
      "False\n",
      "True\n"
     ]
    }
   ],
   "source": [
    "# 31. Which one of the following variables return True when we use the method isidentifier(): - 30DaysOfPython - thirty_days_of_python\n",
    "statement1 = '30DaysOfPython'\n",
    "statement2 = 'thirty_days_of_python'\n",
    "\n",
    "print(statement1.isidentifier())\n",
    "print(statement2.isidentifier())"
   ]
  },
  {
   "cell_type": "code",
   "execution_count": 55,
   "id": "cecdc66c-4a31-48b9-9922-55256f36c6f8",
   "metadata": {},
   "outputs": [
    {
     "name": "stdout",
     "output_type": "stream",
     "text": [
      "Django# Flask# Bottle# Pyramid# Falcon\n"
     ]
    }
   ],
   "source": [
    "# 32. The following list contains the names of some of python libraries: ['Django', 'Flask', 'Bottle', 'Pyramid', 'Falcon']. Join the list with a hash with space string.\n",
    "\n",
    "statement = ['Django', 'Flask', 'Bottle', 'Pyramid', 'Falcon']\n",
    "\n",
    "result = '# '.join(statement)\n",
    "\n",
    "print(result)"
   ]
  },
  {
   "cell_type": "code",
   "execution_count": 57,
   "id": "e22d368a-9873-4d5d-a232-4c6001a7b682",
   "metadata": {},
   "outputs": [
    {
     "name": "stdout",
     "output_type": "stream",
     "text": [
      "py\n",
      "I am enjoying this challenge.\n",
      "I just wonder what is next\n"
     ]
    }
   ],
   "source": [
    "# 33.  Use the new line escape sequence to separate the following sentences.\n",
    " #   ```py\n",
    "  #  I am enjoying this challenge.\n",
    "   # I just wonder what is next.\n",
    "    #```\n",
    "\n",
    "statement = '''py\n",
    "I am enjoying this challenge.\n",
    "I just wonder what is next'''\n",
    "\n",
    "print(statement)"
   ]
  },
  {
   "cell_type": "code",
   "execution_count": 73,
   "id": "ee4a181e-8112-4b99-89e4-600be2466620",
   "metadata": {},
   "outputs": [
    {
     "name": "stdout",
     "output_type": "stream",
     "text": [
      "Name\t\tAge\tCountry\t\tCity\n",
      "Asabeneh\t250\tFinland\t\tHelsinki\n"
     ]
    }
   ],
   "source": [
    "# 34. Use a tab escape sequence to write the following lines.\n",
    "\n",
    "statement = 'Name\\t\\tAge\\tCountry\\t\\tCity\\nAsabeneh\\t250\\tFinland\\t\\tHelsinki'\n",
    "\n",
    "print(statement)"
   ]
  },
  {
   "cell_type": "code",
   "execution_count": 75,
   "id": "35c9f774-a2d6-42cb-8656-6180258a6034",
   "metadata": {},
   "outputs": [
    {
     "name": "stdout",
     "output_type": "stream",
     "text": [
      "The area of a circle with radius 10 is 314.00 meters square.\n"
     ]
    }
   ],
   "source": [
    "# 35. Use the string formatting method to display the following:\n",
    "\n",
    "radius = 10\n",
    "area = 3.14 * radius ** 2\n",
    "result = 'The area of a circle with radius %d is %.2f meters square.'%(radius,area)\n",
    "print(result)"
   ]
  },
  {
   "cell_type": "code",
   "execution_count": 93,
   "id": "9277c919-7a0f-4996-988b-ce73fad3a775",
   "metadata": {},
   "outputs": [
    {
     "name": "stdout",
     "output_type": "stream",
     "text": [
      "8 + 6 = 14\n",
      "8 - 6 = 2\n",
      "8 * 6 = 48\n",
      "8 / 6 = 1.33\n",
      "8 % 6 = 2\n",
      "8 // 6 = 1\n",
      "8 ** 6 = 262144\n"
     ]
    }
   ],
   "source": [
    "# 36. Make the following using string formatting methods:\n",
    "\n",
    "a = 8\n",
    "b = 6\n",
    "\n",
    "print('{} + {} = {}'.format(a, b, a+b))\n",
    "print('{} - {} = {}'.format(a, b, a-b))\n",
    "print('{} * {} = {}'.format(a, b, a*b))\n",
    "print('{} / {} = {:.2f}'.format(a, b, a/b))\n",
    "print('{} % {} = {}'.format(a, b, a%b))\n",
    "print('{} // {} = {}'.format(a, b, a//b))\n",
    "print('{} ** {} = {}'.format(a, b, a**b))"
   ]
  },
  {
   "cell_type": "code",
   "execution_count": null,
   "id": "8aecfc6c-d577-4975-b718-eebdecdba97b",
   "metadata": {},
   "outputs": [],
   "source": []
  }
 ],
 "metadata": {
  "kernelspec": {
   "display_name": "Python 3 (ipykernel)",
   "language": "python",
   "name": "python3"
  },
  "language_info": {
   "codemirror_mode": {
    "name": "ipython",
    "version": 3
   },
   "file_extension": ".py",
   "mimetype": "text/x-python",
   "name": "python",
   "nbconvert_exporter": "python",
   "pygments_lexer": "ipython3",
   "version": "3.12.4"
  }
 },
 "nbformat": 4,
 "nbformat_minor": 5
}
