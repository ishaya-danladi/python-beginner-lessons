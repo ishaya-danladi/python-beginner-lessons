{
 "cells": [
  {
   "cell_type": "code",
   "execution_count": 17,
   "id": "8a473f93-120a-46fd-993e-47e306856e54",
   "metadata": {},
   "outputs": [
    {
     "name": "stdout",
     "output_type": "stream",
     "text": [
      "The length of the set of IT companies is 7\n",
      "{'IBM', 'Oracle', 'Facebook', 'Google', 'Twitter', 'Amazon', 'Apple', 'Microsoft'}\n",
      "{'IBM', 'Instagram', 'Facebook', 'WhatsApp', 'YouTube', 'Microsoft', 'Twitter', 'Google', 'Amazon', 'Oracle', 'Apple'}\n",
      "{'IBM', 'Instagram', 'Facebook', 'WhatsApp', 'YouTube', 'Twitter', 'Google', 'Amazon', 'Oracle', 'Apple'}\n",
      "Remove usually implies taking something away from from its current place or position. It does not necessarily mean mean the item will be thrown away or destroyed; it might be relocated, stored or set aside. Discard specifically means to throw something away or get rid of it completely. It usually implies that the item is no longer wanted or needed and is being disposed of.\n"
     ]
    }
   ],
   "source": [
    "# sets\n",
    "\n",
    "it_companies = {'Facebook', 'Google', 'Microsoft', 'Apple', 'IBM', 'Oracle', 'Amazon'}\n",
    "\n",
    "### Exercises: Level 1\n",
    "\n",
    "#1. Find the length of the set it_companies\n",
    "length = len(it_companies)\n",
    "print('The length of the set of IT companies is', length)\n",
    "\n",
    "#2. Add 'Twitter' to it_companies\n",
    "it_companies.add('Twitter')\n",
    "print(it_companies)\n",
    "\n",
    "#3. Insert multiple IT companies at once to the set it_companies\n",
    "it_companies.update(['WhatsApp','Instagram','YouTube'])\n",
    "print(it_companies)\n",
    "\n",
    "#4. Remove one of the companies from the set it_companies\n",
    "it_companies.remove('Microsoft')\n",
    "print(it_companies)\n",
    "\n",
    "#5. What is the difference between remove and discard\n",
    "difference = 'Remove usually implies taking something away from from its current place or position. It does not necessarily mean mean the item will be thrown away or destroyed; it might be relocated, stored or set aside. Discard specifically means to throw something away or get rid of it completely. It usually implies that the item is no longer wanted or needed and is being disposed of.'\n",
    "print(difference)"
   ]
  },
  {
   "cell_type": "code",
   "execution_count": 44,
   "id": "ce5a240e-7493-4876-a0f6-d536c49d83a2",
   "metadata": {},
   "outputs": [
    {
     "name": "stdout",
     "output_type": "stream",
     "text": [
      "Union of A and B {19, 20, 22, 24, 25, 26, 27, 28}\n",
      "Intersection of A and B {19, 20, 22, 24, 25, 26}\n",
      "A is a subset of B: True\n",
      "A and B disjoint sets: False\n",
      "Join A with B and B with A {19, 20, 22, 24, 25, 26, 27, 28}\n",
      "The symmetric difference between A and B is: {27, 28}\n"
     ]
    }
   ],
   "source": [
    "### Exercises: Level 2\n",
    "\n",
    "A = {19, 22, 24, 20, 25, 26}\n",
    "B = {19, 22, 20, 25, 26, 24, 28, 27}\n",
    "\n",
    "#1. Join A and B\n",
    "together = A.union(B)\n",
    "print('Union of A and B', together)\n",
    "\n",
    "#1. Find A intersection B\n",
    "C = A.intersection(B)\n",
    "print('Intersection of A and B', C)\n",
    "\n",
    "#1. Is A subset of B\n",
    "print('A is a subset of B:', A.issubset(B))\n",
    "\n",
    "#1. Are A and B disjoint sets\n",
    "print('A and B disjoint sets:', A.isdisjoint(B))\n",
    "\n",
    "#1. Join A with B and B with A\n",
    "D = A.union(B)\n",
    "E = B.union(A)\n",
    "print('Join A with B and B with A', D.union(E))\n",
    "\n",
    "#1. What is the symmetric difference between A and B\n",
    "print('The symmetric difference between A and B is:', A.symmetric_difference(B))\n",
    "#1. Delete the sets completely\n",
    "del A\n",
    "del B\n",
    "del C"
   ]
  },
  {
   "cell_type": "code",
   "execution_count": 60,
   "id": "1796e7eb-1b2b-423b-aa5c-2c3e180b5d1d",
   "metadata": {},
   "outputs": [
    {
     "name": "stdout",
     "output_type": "stream",
     "text": [
      "The length of the list is 8 and the lenght of the set is 5 So, the lenght of list is bigger than that of the set of ages.\n",
      "List is a collection which is ordered and changeable(modifiable). Allows duplicate members. Tuple is a collection which is ordered and unchangeable or unmodifiable(immutable). Allows duplicate members. Set is a collection which is unordered, un-indexed and unmodifiable, but we can add new items to the set. Duplicate members are not allowed.\n",
      "['I', 'am', 'a', 'teacher', 'and', 'I', 'love', 'to', 'inspire', 'and', 'teach', 'people.']\n",
      "{'I', 'and', 'a', 'to', 'people.', 'teacher', 'teach', 'love', 'inspire', 'am'}\n",
      "10\n"
     ]
    }
   ],
   "source": [
    "### Exercises: Level 3\n",
    "\n",
    "age = [22, 19, 24, 25, 26, 24, 25, 24]\n",
    "\n",
    "#1. Convert the ages to a set and compare the length of the list and the set, which one is bigger?\n",
    "ages = set(age)\n",
    "\n",
    "L = len(age)\n",
    "S = len(ages)\n",
    "\n",
    "if L > S:\n",
    "    print('The length of the list is', L, 'and the lenght of the set is', S, 'So, the lenght of list is bigger than that of the set of ages.')\n",
    "else:\n",
    "    print('The lenght of the list is not bigger than the lenght of the set of ages')\n",
    "    \n",
    "#1. Explain the difference between the following data types: string, list, tuple and set\n",
    "difference = 'List is a collection which is ordered and changeable(modifiable). Allows duplicate members. Tuple is a collection which is ordered and unchangeable or unmodifiable(immutable). Allows duplicate members. Set is a collection which is unordered, un-indexed and unmodifiable, but we can add new items to the set. Duplicate members are not allowed.'\n",
    "print(difference)\n",
    "\n",
    "#2. _I am a teacher and I love to inspire and teach people._ How many unique words have been used in the sentence? Use the split methods and set to get the unique words.\n",
    "\n",
    "statement = 'I am a teacher and I love to inspire and teach people.'\n",
    "words = statement.split()\n",
    "print(words)\n",
    "unique_words = set(words)\n",
    "print(unique_words)\n",
    "print(len(unique_words))"
   ]
  },
  {
   "cell_type": "code",
   "execution_count": 65,
   "id": "aa94bd38-39f0-430a-9055-dbc7a9cdf7d2",
   "metadata": {},
   "outputs": [
    {
     "data": {
      "text/plain": [
       "'C:\\\\Users\\\\zukz\\\\MACHINE LEARNING\\\\Lecture_7'"
      ]
     },
     "execution_count": 65,
     "metadata": {},
     "output_type": "execute_result"
    }
   ],
   "source": [
    "pwd"
   ]
  },
  {
   "cell_type": "code",
   "execution_count": null,
   "id": "088de16f-16cd-417f-8b12-c04305796b53",
   "metadata": {},
   "outputs": [],
   "source": []
  }
 ],
 "metadata": {
  "kernelspec": {
   "display_name": "Python 3 (ipykernel)",
   "language": "python",
   "name": "python3"
  },
  "language_info": {
   "codemirror_mode": {
    "name": "ipython",
    "version": 3
   },
   "file_extension": ".py",
   "mimetype": "text/x-python",
   "name": "python",
   "nbconvert_exporter": "python",
   "pygments_lexer": "ipython3",
   "version": "3.12.4"
  }
 },
 "nbformat": 4,
 "nbformat_minor": 5
}
