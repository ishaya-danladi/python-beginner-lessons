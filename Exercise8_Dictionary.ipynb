{
 "cells": [
  {
   "cell_type": "code",
   "execution_count": 3,
   "id": "b455a4bb-2096-4a0d-b9b9-b0498c4d4fd8",
   "metadata": {},
   "outputs": [
    {
     "name": "stdout",
     "output_type": "stream",
     "text": [
      "{}\n",
      "{'name': 'Bingo', 'color': 'Black', 'Breed': 'German Shepherd', 'legs': 4, 'age': 5}\n"
     ]
    }
   ],
   "source": [
    "## 💻 Exercises: Day 8\n",
    "\n",
    "#1. Create  an empty dictionary called dog\n",
    "dog = {}\n",
    "print(dog)\n",
    "\n",
    "#2. Add name, color, breed, legs, age to the dog dictionary\n",
    "dog['name'] = 'Bingo'\n",
    "dog['color'] = 'Black'\n",
    "dog['Breed'] = 'German Shepherd'\n",
    "dog['legs'] = 4\n",
    "dog['age'] = 5\n",
    "\n",
    "print(dog)\n",
    "\n"
   ]
  },
  {
   "cell_type": "code",
   "execution_count": 30,
   "id": "3f29805c-ae73-49bb-9744-cdccc08dc2b2",
   "metadata": {},
   "outputs": [
    {
     "name": "stdout",
     "output_type": "stream",
     "text": [
      "{'first_name': 'Ishaya', 'last_name': 'Danladi', 'gender': 'male', 'age': 25, 'marital_status': 'single', 'skills': ['Python', 'JavaScript', 'Visual Basic', 'Latex', 'Music'], 'country': 'Nigeria', 'city': 'Gombe', 'address': {'street': 'Yawunde Street', 'zipcode': 77492}}\n",
      "The length of the student dictionary is 9\n",
      "['Python', 'JavaScript', 'Visual Basic', 'Latex', 'Music']\n",
      "<class 'list'>\n"
     ]
    }
   ],
   "source": [
    "#3. Create a student dictionary and add first_name, last_name, gender, age, marital status, skills, country, city and address as keys for the dictionary\n",
    "student = {\n",
    "        'first_name': 'Ishaya', \n",
    "         'last_name': 'Danladi', \n",
    "         'gender': 'male', \n",
    "         'age': 25, \n",
    "         'marital_status': 'single', \n",
    "         'skills': ['Python','JavaScript','Visual Basic', 'Latex', 'Music'], \n",
    "         'country': 'Nigeria', \n",
    "         'city': 'Gombe', \n",
    "         'address': {\n",
    "             'street': 'Yawunde Street',\n",
    "             'zipcode': 77492\n",
    "         }\n",
    "        }\n",
    "\n",
    "print(student)\n",
    "\n",
    "\n",
    "#4. Get the length of the student dictionary\n",
    "\n",
    "print('The length of the student dictionary is', len(student))\n",
    "\n",
    "\n",
    "\n",
    "#5. Get the value of skills and check the data type, it should be a list\n",
    "\n",
    "skills = student['skills']\n",
    "print(skills)\n",
    "\n",
    "print(type(skills))\n",
    "\n",
    "\n",
    "\n"
   ]
  },
  {
   "cell_type": "code",
   "execution_count": 28,
   "id": "07701425-06f0-4a69-869b-e89adaa5a7ce",
   "metadata": {},
   "outputs": [
    {
     "name": "stdout",
     "output_type": "stream",
     "text": [
      "{'first_name': 'Ishaya', 'last_name': 'Danladi', 'gender': 'male', 'age': 25, 'marital_status': 'single', 'skills': ['Python', 'JavaScript', 'Visual Basic', 'Latex', 'Music'], 'country': 'Nigeria', 'city': 'Gombe', 'address': {'street': 'Yawunde Street', 'zipcode': 77492}, 'Course of study': 'Mathematics', 'Height': 1.76}\n"
     ]
    }
   ],
   "source": [
    "#6. Modify the skills values by adding one or two skills\n",
    "\n",
    "student['Course of study'] = 'Mathematics'\n",
    "student['Height'] = 1.76\n",
    "\n",
    "print(student)"
   ]
  },
  {
   "cell_type": "code",
   "execution_count": 32,
   "id": "9234a237-95c8-4fb1-91ff-b79e4f8dc9dc",
   "metadata": {},
   "outputs": [
    {
     "name": "stdout",
     "output_type": "stream",
     "text": [
      "dict_keys(['first_name', 'last_name', 'gender', 'age', 'marital_status', 'skills', 'country', 'city', 'address'])\n"
     ]
    }
   ],
   "source": [
    "#7. Get the dictionary keys as a list\n",
    "student = {\n",
    "        'first_name': 'Ishaya', \n",
    "         'last_name': 'Danladi', \n",
    "         'gender': 'male', \n",
    "         'age': 25, \n",
    "         'marital_status': 'single', \n",
    "         'skills': ['Python','JavaScript','Visual Basic', 'Latex', 'Music'], \n",
    "         'country': 'Nigeria', \n",
    "         'city': 'Gombe', \n",
    "         'address': {\n",
    "             'street': 'Yawunde Street',\n",
    "             'zipcode': 77492\n",
    "         }\n",
    "        }\n",
    "\n",
    "keys = student.keys()\n",
    "print(keys)\n"
   ]
  },
  {
   "cell_type": "code",
   "execution_count": 34,
   "id": "6cee2cd5-625c-4a52-9097-3e630d7b1d90",
   "metadata": {},
   "outputs": [
    {
     "name": "stdout",
     "output_type": "stream",
     "text": [
      "dict_values(['Ishaya', 'Danladi', 'male', 25, 'single', ['Python', 'JavaScript', 'Visual Basic', 'Latex', 'Music'], 'Nigeria', 'Gombe', {'street': 'Yawunde Street', 'zipcode': 77492}])\n"
     ]
    }
   ],
   "source": [
    "#8. Get the dictionary values as a list\n",
    "student = {\n",
    "        'first_name': 'Ishaya', \n",
    "         'last_name': 'Danladi', \n",
    "         'gender': 'male', \n",
    "         'age': 25, \n",
    "         'marital_status': 'single', \n",
    "         'skills': ['Python','JavaScript','Visual Basic', 'Latex', 'Music'], \n",
    "         'country': 'Nigeria', \n",
    "         'city': 'Gombe', \n",
    "         'address': {\n",
    "             'street': 'Yawunde Street',\n",
    "             'zipcode': 77492\n",
    "         }\n",
    "        }\n",
    "\n",
    "values = student.values()\n",
    "print(values)"
   ]
  },
  {
   "cell_type": "code",
   "execution_count": 36,
   "id": "117b1c8a-68cd-4887-9063-3587bb16aa9c",
   "metadata": {},
   "outputs": [
    {
     "name": "stdout",
     "output_type": "stream",
     "text": [
      "dict_items([('first_name', 'Ishaya'), ('last_name', 'Danladi'), ('gender', 'male'), ('age', 25), ('marital_status', 'single'), ('skills', ['Python', 'JavaScript', 'Visual Basic', 'Latex', 'Music']), ('country', 'Nigeria'), ('city', 'Gombe'), ('address', {'street': 'Yawunde Street', 'zipcode': 77492})])\n"
     ]
    }
   ],
   "source": [
    "#9. Change the dictionary to a list of tuples using _items()_ method\n",
    "\n",
    "student = {\n",
    "        'first_name': 'Ishaya', \n",
    "         'last_name': 'Danladi', \n",
    "         'gender': 'male', \n",
    "         'age': 25, \n",
    "         'marital_status': 'single', \n",
    "         'skills': ['Python','JavaScript','Visual Basic', 'Latex', 'Music'], \n",
    "         'country': 'Nigeria', \n",
    "         'city': 'Gombe', \n",
    "         'address': {\n",
    "             'street': 'Yawunde Street',\n",
    "             'zipcode': 77492\n",
    "         }\n",
    "        }\n",
    "\n",
    "print(student.items())\n"
   ]
  },
  {
   "cell_type": "code",
   "execution_count": 38,
   "id": "609d102d-8c40-44a6-904b-d594f3ec14de",
   "metadata": {},
   "outputs": [
    {
     "name": "stdout",
     "output_type": "stream",
     "text": [
      "{'first_name': 'Ishaya', 'last_name': 'Danladi', 'gender': 'male', 'marital_status': 'single', 'skills': ['Python', 'JavaScript', 'Visual Basic', 'Latex', 'Music'], 'country': 'Nigeria', 'city': 'Gombe', 'address': {'street': 'Yawunde Street', 'zipcode': 77492}}\n"
     ]
    }
   ],
   "source": [
    "#10. Delete one of the items in the dictionary\n",
    "del student['age']\n",
    "print(student)"
   ]
  },
  {
   "cell_type": "code",
   "execution_count": 40,
   "id": "3f9631ed-ad06-486f-bb9a-48f890822b54",
   "metadata": {},
   "outputs": [
    {
     "ename": "NameError",
     "evalue": "name 'dog' is not defined",
     "output_type": "error",
     "traceback": [
      "\u001b[1;31m---------------------------------------------------------------------------\u001b[0m",
      "\u001b[1;31mNameError\u001b[0m                                 Traceback (most recent call last)",
      "Cell \u001b[1;32mIn[40], line 3\u001b[0m\n\u001b[0;32m      1\u001b[0m \u001b[38;5;66;03m#11. Delete one of the dictionaries\u001b[39;00m\n\u001b[0;32m      2\u001b[0m \u001b[38;5;28;01mdel\u001b[39;00m dog\n\u001b[1;32m----> 3\u001b[0m \u001b[38;5;28mprint\u001b[39m(dog)\n",
      "\u001b[1;31mNameError\u001b[0m: name 'dog' is not defined"
     ]
    }
   ],
   "source": [
    "#11. Delete one of the dictionaries\n",
    "del dog\n",
    "print(dog)"
   ]
  },
  {
   "cell_type": "code",
   "execution_count": 42,
   "id": "021305a1-f838-4344-9ef2-953e6c3bb9f5",
   "metadata": {},
   "outputs": [
    {
     "data": {
      "text/plain": [
       "'C:\\\\Users\\\\zukz\\\\MACHINE LEARNING\\\\Lecture_8'"
      ]
     },
     "execution_count": 42,
     "metadata": {},
     "output_type": "execute_result"
    }
   ],
   "source": [
    "pwd"
   ]
  },
  {
   "cell_type": "code",
   "execution_count": null,
   "id": "1c0ce071-4ce4-4373-9850-3e7725ae6236",
   "metadata": {},
   "outputs": [],
   "source": []
  }
 ],
 "metadata": {
  "kernelspec": {
   "display_name": "Python 3 (ipykernel)",
   "language": "python",
   "name": "python3"
  },
  "language_info": {
   "codemirror_mode": {
    "name": "ipython",
    "version": 3
   },
   "file_extension": ".py",
   "mimetype": "text/x-python",
   "name": "python",
   "nbconvert_exporter": "python",
   "pygments_lexer": "ipython3",
   "version": "3.12.4"
  }
 },
 "nbformat": 4,
 "nbformat_minor": 5
}
