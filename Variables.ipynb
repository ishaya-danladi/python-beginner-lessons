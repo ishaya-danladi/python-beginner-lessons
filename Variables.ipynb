{
 "cells": [
  {
   "cell_type": "code",
   "execution_count": null,
   "id": "571d0cfe-ac13-41c1-accd-19f29acf09eb",
   "metadata": {},
   "outputs": [],
   "source": [
    "#Lecture 2: python programming.             EXERCISE LEVEL 1 #Question 2"
   ]
  },
  {
   "cell_type": "code",
   "execution_count": 53,
   "id": "d362e04b-1b6a-4dd5-b513-950862d1fe95",
   "metadata": {},
   "outputs": [
    {
     "name": "stdout",
     "output_type": "stream",
     "text": [
      "Your full name is Ishaya Danladi\n",
      "True\n"
     ]
    }
   ],
   "source": [
    "\n",
    "first_name = 'Ishaya'                                               #Question 3\n",
    "last_name = 'Danladi'                                               #Question 4\n",
    "full_name = (f'Your full name is {first_name} {last_name}')         #Question 5\n",
    "print(full_name)\n",
    "\n",
    "#print('I' in first_name)"
   ]
  },
  {
   "cell_type": "code",
   "execution_count": 76,
   "id": "746199db-7efc-4050-8636-e84a0f2c8d79",
   "metadata": {},
   "outputs": [
    {
     "name": "stdout",
     "output_type": "stream",
     "text": [
      "I am a citizen of Nigeria\n",
      "I am an indegiene of Gombe\n",
      "I am 26 years old\n",
      "<class 'str'>\n",
      "<class 'str'>\n",
      "<class 'int'>\n",
      "<class 'int'>\n",
      "<class 'bool'>\n",
      "<class 'bool'>\n",
      "<class 'bool'>\n"
     ]
    }
   ],
   "source": [
    "#Variables naming\n",
    "\n",
    "country = 'Nigeria'                             #Question 6\n",
    "city = 'Gombe'                                  #Question 7\n",
    "age = 26                                        #Question 8\n",
    "year = 2024                                     #Question 9\n",
    "is_married = False                              #Question 10\n",
    "is_true = True                                  #Question 11\n",
    "is_light_on = True                              #Question 12\n",
    "\n",
    "#Multiple Variable on one line                  Question 13\n",
    "first_name, surname, country, city, age, year, institution = 'Ishaya', 'Danladi', 'Nigeria', 'Gombe', 26, 2024, 'Gombe State Unibersity'\n",
    "print('Here is my short profile is:', first_name, surname, country, city, age, year, institution)\n",
    "\n",
    "print(f'I am a citizen of {country}')\n",
    "print(f'I am an indegiene of {city}')\n",
    "print('I am' ,age, 'years old')\n",
    "\n",
    "#Data types of all the variables     EXERCISE LEVEL 2 QUESTION   1\n",
    "print(type(country))\n",
    "print(type(city))\n",
    "print(type(age))\n",
    "print(type(year))\n",
    "print(type(is_married))\n",
    "print(type(is_true))\n",
    "print(type(is_light_on))\n"
   ]
  },
  {
   "cell_type": "code",
   "execution_count": 51,
   "id": "09ccc997-2479-4f15-b559-35882582dcd5",
   "metadata": {},
   "outputs": [
    {
     "name": "stdout",
     "output_type": "stream",
     "text": [
      "6\n",
      "False\n",
      "Your Surname is longer than Firstname\n"
     ]
    }
   ],
   "source": [
    "# length of variables             Question 2\n",
    "\n",
    "len(first_name)\n",
    "\n",
    "#Comparism between my first name and last name. Here I also use the IF statement            Question 3\n",
    "print(len(first_name))\n",
    "\n",
    "print(len(first_name) == len(last_name))\n",
    "\n",
    "if len(first_name) > len(last_name):\n",
    "    print('Firstname is longer than surname')\n",
    "elif len(first_name) < len(last_name):\n",
    "    print('Your Surname is longer than Firstname')\n",
    "else:\n",
    "    print('Your firstname and surname are both of thesame length')"
   ]
  },
  {
   "cell_type": "code",
   "execution_count": 11,
   "id": "5358abfd-8b64-41bb-a398-567e30537f9c",
   "metadata": {},
   "outputs": [
    {
     "name": "stdout",
     "output_type": "stream",
     "text": [
      "9\n",
      "20\n",
      "1.25\n",
      "80.0\n",
      "1\n",
      "625\n",
      "<class 'float'>\n"
     ]
    }
   ],
   "source": [
    "#Simple arithmetic Question 4\n",
    "\n",
    "num_one = 5\n",
    "num_two = 4\n",
    "total = num_one + num_two\n",
    "product = num_one * num_two\n",
    "division = num_one / num_two\n",
    "percentage = (num_two / num_one) * 100\n",
    "remainder = num_one % num_two\n",
    "exp = num_one ** num_two\n",
    "floor_division = num_one // num_two\n",
    "\n",
    "print(total)\n",
    "print(product)\n",
    "print(division)\n",
    "print(percentage)\n",
    "print(remainder)\n",
    "print(exp)\n",
    "print(floor_division)\n",
    "\n",
    "print(type(percentage))"
   ]
  },
  {
   "cell_type": "code",
   "execution_count": 5,
   "id": "64340765-8d1b-417a-82e9-3f79d44ba704",
   "metadata": {},
   "outputs": [
    {
     "name": "stdout",
     "output_type": "stream",
     "text": [
      "2827.4333882308138\n",
      "188.49555921538757\n"
     ]
    },
    {
     "name": "stdin",
     "output_type": "stream",
     "text": [
      "Radius of the circle is: 7\n"
     ]
    },
    {
     "name": "stdout",
     "output_type": "stream",
     "text": [
      "The area of the circle is 153.93804002589985\n"
     ]
    }
   ],
   "source": [
    "# Question 5 (Area of a circle)\n",
    "\n",
    "import math\n",
    "\n",
    "pi_value = math.pi\n",
    "\n",
    "area_of_a_circle = pi_value * (30**2)\n",
    "print (area_of_a_circle)\n",
    "\n",
    "circum_of_circle = 2 * pi_value * 30\n",
    "print(circum_of_circle)\n",
    "\n",
    "radius = float(input(\"Radius of the circle is:\"))\n",
    "area_of_circle = pi_value * (radius**2)\n",
    "print('The area of the circle is', area_of_circle)"
   ]
  },
  {
   "cell_type": "code",
   "execution_count": 3,
   "id": "8832508b-fa39-4387-a231-5835e8b6888c",
   "metadata": {},
   "outputs": [
    {
     "name": "stdin",
     "output_type": "stream",
     "text": [
      "First name Ishaya\n"
     ]
    },
    {
     "name": "stdout",
     "output_type": "stream",
     "text": [
      "Ishaya\n"
     ]
    },
    {
     "name": "stdin",
     "output_type": "stream",
     "text": [
      "Surname Danladi\n"
     ]
    },
    {
     "name": "stdout",
     "output_type": "stream",
     "text": [
      "Danladi\n"
     ]
    },
    {
     "name": "stdin",
     "output_type": "stream",
     "text": [
      "Country Nigeria\n"
     ]
    },
    {
     "name": "stdout",
     "output_type": "stream",
     "text": [
      "Nigeria\n"
     ]
    },
    {
     "name": "stdin",
     "output_type": "stream",
     "text": [
      "Age 24\n"
     ]
    },
    {
     "name": "stdout",
     "output_type": "stream",
     "text": [
      "24\n",
      "My name is Ishaya Danladi I am from Nigeria and I am 24 years old\n"
     ]
    }
   ],
   "source": [
    "#Question 6\n",
    "first_name = input(\"First name\")\n",
    "print(first_name)\n",
    "\n",
    "last_name = input(\"Surname\")\n",
    "print(last_name)\n",
    "\n",
    "country = input(\"Country\")\n",
    "print(country)\n",
    "\n",
    "age = input(\"Age\")\n",
    "print (age)\n",
    "\n",
    "print('My name is', first_name, last_name, 'I am from', country, 'and I am', age, 'years old')"
   ]
  },
  {
   "cell_type": "code",
   "execution_count": 71,
   "id": "d8c4c252-7fa0-49f7-846a-a4422791267f",
   "metadata": {},
   "outputs": [
    {
     "name": "stdout",
     "output_type": "stream",
     "text": [
      "Help on module keyword:\n",
      "\n",
      "NAME\n",
      "    keyword - Keywords (from \"Grammar/python.gram\")\n",
      "\n",
      "MODULE REFERENCE\n",
      "    https://docs.python.org/3.12/library/keyword.html\n",
      "\n",
      "    The following documentation is automatically generated from the Python\n",
      "    source files.  It may be incomplete, incorrect or include features that\n",
      "    are considered implementation detail and may vary between Python\n",
      "    implementations.  When in doubt, consult the module reference at the\n",
      "    location listed above.\n",
      "\n",
      "DESCRIPTION\n",
      "    This file is automatically generated; please don't muck it up!\n",
      "\n",
      "    To update the symbols in this file, 'cd' to the top directory of\n",
      "    the python source tree and run:\n",
      "\n",
      "        PYTHONPATH=Tools/peg_generator python3 -m pegen.keywordgen         Grammar/python.gram         Grammar/Tokens         Lib/keyword.py\n",
      "\n",
      "    Alternatively, you can run 'make regen-keyword'.\n",
      "\n",
      "FUNCTIONS\n",
      "    iskeyword = __contains__(...) method of builtins.frozenset instance\n",
      "        x.__contains__(y) <==> y in x.\n",
      "\n",
      "    issoftkeyword = __contains__(...) method of builtins.frozenset instance\n",
      "        x.__contains__(y) <==> y in x.\n",
      "\n",
      "DATA\n",
      "    __all__ = ['iskeyword', 'issoftkeyword', 'kwlist', 'softkwlist']\n",
      "    kwlist = ['False', 'None', 'True', 'and', 'as', 'assert', 'async', 'aw...\n",
      "    softkwlist = ['_', 'case', 'match', 'type']\n",
      "\n",
      "FILE\n",
      "    c:\\users\\zukz\\anaconda3\\lib\\keyword.py\n",
      "\n",
      "\n"
     ]
    }
   ],
   "source": [
    "# Question 7\n",
    "\n",
    "#import keyword\n",
    "help(keyword)"
   ]
  },
  {
   "cell_type": "code",
   "execution_count": 1,
   "id": "df926946-847f-4054-b167-d6efe0fb89da",
   "metadata": {},
   "outputs": [
    {
     "name": "stdin",
     "output_type": "stream",
     "text": [
      "value of A 1\n",
      "value of B -3\n",
      "value of c 2\n"
     ]
    },
    {
     "name": "stdout",
     "output_type": "stream",
     "text": [
      "x1 is equal to 2.0\n",
      "x2 is equal to 1.0\n"
     ]
    }
   ],
   "source": [
    "# SOLVING SIMPLE QUADRATIC EQUATIONS OF THE FORM ax2 + bx + c = 0 (for testing, use a = 1, b = -3, c = 2 as inputs) \n",
    "a = float(input('value of A'))\n",
    "b = float(input('value of B'))\n",
    "c = float(input('value of c'))\n",
    "\n",
    "x1 = (-b + (b**2 - 4*a*c) ** 0.5) / (2 * a)\n",
    "x2 = (-b - (b**2 - 4*a*c) ** 0.5) / (2 * a)\n",
    "\n",
    "print(f\"x1 is equal to {x1}\")\n",
    "print(f\"x2 is equal to {x2}\")"
   ]
  },
  {
   "cell_type": "markdown",
   "id": "0782d05d-bd11-4ad1-af62-5242a0cf28f6",
   "metadata": {},
   "source": []
  },
  {
   "cell_type": "code",
   "execution_count": 19,
   "id": "5d677452-8f4d-4e69-9228-2ecd4a3c760c",
   "metadata": {},
   "outputs": [
    {
     "name": "stdin",
     "output_type": "stream",
     "text": [
      "Input value 10\n"
     ]
    },
    {
     "name": "stdout",
     "output_type": "stream",
     "text": [
      "The square of 10.0 is 100.0\n"
     ]
    }
   ],
   "source": [
    "#FINDING THE SQUARE OF ANY NUMBER \n",
    "\n",
    "x = float(input('Input value'))\n",
    "y = x ** 2\n",
    "print('The square of', x, 'is', y)"
   ]
  },
  {
   "cell_type": "code",
   "execution_count": 44,
   "id": "f91ab1dd-1782-44f7-aede-6d5d3b213821",
   "metadata": {},
   "outputs": [
    {
     "name": "stdin",
     "output_type": "stream",
     "text": [
      "Number 43\n"
     ]
    },
    {
     "name": "stdout",
     "output_type": "stream",
     "text": [
      "The square root of 43.0 is 6.557438524302\n"
     ]
    }
   ],
   "source": [
    "#FINDING THE SQUARE ROOT OF ANY NUMBER\n",
    "\n",
    "x = float(input('Number'))\n",
    "y = (x) ** 0.5\n",
    "print('The square root of', x, 'is', y)"
   ]
  },
  {
   "cell_type": "code",
   "execution_count": null,
   "id": "32b07310-65f9-4aa4-b8f8-0efc59f76699",
   "metadata": {},
   "outputs": [],
   "source": []
  },
  {
   "cell_type": "code",
   "execution_count": null,
   "id": "a29d6423-4057-4dd0-8ac4-dbfabeeca1df",
   "metadata": {},
   "outputs": [],
   "source": []
  }
 ],
 "metadata": {
  "kernelspec": {
   "display_name": "Python 3 (ipykernel)",
   "language": "python",
   "name": "python3"
  },
  "language_info": {
   "codemirror_mode": {
    "name": "ipython",
    "version": 3
   },
   "file_extension": ".py",
   "mimetype": "text/x-python",
   "name": "python",
   "nbconvert_exporter": "python",
   "pygments_lexer": "ipython3",
   "version": "3.12.4"
  }
 },
 "nbformat": 4,
 "nbformat_minor": 5
}
