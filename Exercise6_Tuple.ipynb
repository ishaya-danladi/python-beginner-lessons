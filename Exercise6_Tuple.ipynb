{
 "cells": [
  {
   "cell_type": "code",
   "execution_count": 27,
   "id": "519eda90-eb94-4204-9ee9-b9d228b56439",
   "metadata": {},
   "outputs": [
    {
     "name": "stdout",
     "output_type": "stream",
     "text": [
      "()\n"
     ]
    }
   ],
   "source": [
    "### Exercises: Level 1\n",
    "\n",
    "# 1. Create an empty tuple\n",
    "empty_tuple = ()\n",
    "print(empty_tuple)\n"
   ]
  },
  {
   "cell_type": "code",
   "execution_count": 29,
   "id": "a7fac660-f1c3-4a3d-be53-7f6ca32a053e",
   "metadata": {},
   "outputs": [
    {
     "name": "stdout",
     "output_type": "stream",
     "text": [
      "('Aisha', 'Elizabeth', 'Jennifer')\n",
      "('Musa', 'Ali', 'Nathan', 'Zakariya')\n"
     ]
    }
   ],
   "source": [
    "# 2. Create a tuple containing names of your sisters and your brothers (imaginary siblings are fine)\n",
    "sisters = ('Aisha','Elizabeth','Jennifer')\n",
    "brothers = ('Musa','Ali','Nathan','Zakariya')\n",
    "print(sisters)\n",
    "print(brothers)"
   ]
  },
  {
   "cell_type": "code",
   "execution_count": 31,
   "id": "c2ca4204-f2dd-4b97-b795-05686862bbe8",
   "metadata": {},
   "outputs": [
    {
     "name": "stdout",
     "output_type": "stream",
     "text": [
      "('Aisha', 'Elizabeth', 'Jennifer', 'Musa', 'Ali', 'Nathan', 'Zakariya')\n"
     ]
    }
   ],
   "source": [
    "# 3. Join brothers and sisters tuples and assign it to siblings\n",
    "siblings = sisters + brothers\n",
    "print(siblings)\n"
   ]
  },
  {
   "cell_type": "code",
   "execution_count": 33,
   "id": "deecb5ae-546e-41b1-acf5-5de2b3d84b65",
   "metadata": {},
   "outputs": [
    {
     "name": "stdout",
     "output_type": "stream",
     "text": [
      "There are 7 items in this tuple\n"
     ]
    }
   ],
   "source": [
    "# 4. How many siblings do you have?\n",
    "print('There are', len(siblings), 'items in this tuple')"
   ]
  },
  {
   "cell_type": "code",
   "execution_count": 35,
   "id": "f957ef9a-7d44-4f9b-bbce-8dd799b2d70d",
   "metadata": {},
   "outputs": [
    {
     "name": "stdout",
     "output_type": "stream",
     "text": [
      "['Aisha', 'Elizabeth', 'Jennifer', 'Musa', 'Ali', 'Nathan', 'Zakariya']\n",
      "['Aisha', 'Elizabeth', 'Jennifer', 'Musa', 'Ali', 'Nathan', 'Zakariya', 'Danladi', 'Dinatu']\n",
      "('Aisha', 'Elizabeth', 'Jennifer', 'Musa', 'Ali', 'Nathan', 'Zakariya', 'Danladi', 'Dinatu')\n"
     ]
    }
   ],
   "source": [
    "# 5. Modify the siblings tuple and add the name of your father and mother and assign it to family_members\n",
    "# To modify a tuple, we need to first change it to a list\n",
    "siblings = sisters + brothers\n",
    "\n",
    "siblings_list = list(siblings)\n",
    "print(siblings_list)\n",
    "siblings_list.append('Danladi')\n",
    "siblings_list.append('Dinatu')\n",
    "print(siblings_list)\n",
    "family_members = tuple(siblings_list)\n",
    "print(family_members)"
   ]
  },
  {
   "cell_type": "code",
   "execution_count": 40,
   "id": "0eb2de15-760d-4936-8955-88ce2d3ced08",
   "metadata": {},
   "outputs": [
    {
     "name": "stdout",
     "output_type": "stream",
     "text": [
      "('Aisha', 'Elizabeth', 'Jennifer', 'Musa', 'Ali', 'Nathan', 'Zakariya', 'Danladi', 'Dinatu')\n",
      "Siblings name are: ('Aisha', 'Elizabeth', 'Jennifer', 'Musa', 'Ali', 'Nathan', 'Zakariya')\n",
      "My parents names are: ('Danladi', 'Dinatu')\n"
     ]
    }
   ],
   "source": [
    "### Exercises: Level 2\n",
    "\n",
    "#1. Unpack siblings and parents from family_members\n",
    "family_members = ('Aisha', 'Elizabeth', 'Jennifer', 'Musa', 'Ali', 'Nathan', 'Zakariya', 'Danladi', 'Dinatu')\n",
    "print(family_members)\n",
    "\n",
    "siblings = family_members[0:7]\n",
    "parents = family_members[7:]\n",
    "\n",
    "print('Siblings name are:', siblings)\n",
    "print('My parents names are:', parents)\n"
   ]
  },
  {
   "cell_type": "code",
   "execution_count": 42,
   "id": "3906a91a-fc74-4830-9b17-8f3ea44de6bb",
   "metadata": {},
   "outputs": [
    {
     "name": "stdout",
     "output_type": "stream",
     "text": [
      "('Apple', 'Orange', 'Mango', 'Grapes', 'Tomatoes', 'Spinach', 'Carrot', 'Cucumber', 'Water leaves', 'Milk', 'Fish', 'Meat', 'Egg')\n"
     ]
    }
   ],
   "source": [
    "#1. Create fruits, vegetables and animal products tuples. Join the three tuples and assign it to a variable called food_stuff_tp.\n",
    "fruits = ('Apple','Orange','Mango','Grapes')\n",
    "vegetables = ('Tomatoes','Spinach','Carrot','Cucumber','Water leaves')\n",
    "animal_products = ('Milk','Fish','Meat','Egg')\n",
    "\n",
    "food_stuff_tp = fruits + vegetables + animal_products\n",
    "\n",
    "print(food_stuff_tp)"
   ]
  },
  {
   "cell_type": "code",
   "execution_count": 46,
   "id": "c39de87f-d0f2-4898-b27f-982ffc81b83b",
   "metadata": {},
   "outputs": [
    {
     "name": "stdout",
     "output_type": "stream",
     "text": [
      "['Apple', 'Orange', 'Mango', 'Grapes', 'Tomatoes', 'Spinach', 'Carrot', 'Cucumber', 'Water leaves', 'Milk', 'Fish', 'Meat', 'Egg']\n"
     ]
    }
   ],
   "source": [
    "#1. Change the about food_stuff_tp  tuple to a food_stuff_lt list\n",
    "food_stuff_lt = list(food_stuff_tp)\n",
    "print(food_stuff_lt)"
   ]
  },
  {
   "cell_type": "code",
   "execution_count": 52,
   "id": "24866183-2a09-4cf6-b937-3610f44ea4ff",
   "metadata": {},
   "outputs": [
    {
     "name": "stdout",
     "output_type": "stream",
     "text": [
      "Carrot\n",
      "['Apple', 'Orange', 'Mango', 'Grapes', 'Tomatoes', 'Spinach', 'Cucumber', 'Water leaves', 'Milk', 'Fish', 'Meat', 'Egg']\n"
     ]
    }
   ],
   "source": [
    "#1. Slice out the middle item or items from the food_stuff_tp tuple or food_stuff_lt list.\n",
    "\n",
    "food_stuff_lt = ['Apple', 'Orange', 'Mango', 'Grapes', 'Tomatoes', 'Spinach', 'Carrot', 'Cucumber', 'Water leaves', 'Milk', 'Fish', 'Meat', 'Egg']\n",
    "\n",
    "middle = len(food_stuff_lt) // 2\n",
    "middle_item = food_stuff_lt.pop(middle)\n",
    "print(middle_item)\n",
    "\n",
    "print(food_stuff_lt)"
   ]
  },
  {
   "cell_type": "code",
   "execution_count": 60,
   "id": "3114a14f-7f99-458c-9058-795301577a3f",
   "metadata": {},
   "outputs": [
    {
     "name": "stdout",
     "output_type": "stream",
     "text": [
      "First three items in the list: ['Apple', 'Orange', 'Mango', 'Grapes']\n",
      "Last three items in the list: ['Fish', 'Meat', 'Egg']\n"
     ]
    }
   ],
   "source": [
    "#1. Slice out the first three items and the last three items from food_staff_lt list\n",
    "food_stuff_lt = ['Apple', 'Orange', 'Mango', 'Grapes', 'Tomatoes', 'Spinach', 'Carrot', 'Cucumber', 'Water leaves', 'Milk', 'Fish', 'Meat', 'Egg']\n",
    "\n",
    "first_three = food_stuff_lt[0:4]\n",
    "last_three = food_stuff_lt[-3:]\n",
    "\n",
    "print('First three items in the list:', first_three)\n",
    "print('Last three items in the list:', last_three)"
   ]
  },
  {
   "cell_type": "code",
   "execution_count": 77,
   "id": "7bf4e09a-2d49-4bb9-81e9-850d107437ed",
   "metadata": {},
   "outputs": [
    {
     "ename": "NameError",
     "evalue": "name 'food_stuff_tp' is not defined",
     "output_type": "error",
     "traceback": [
      "\u001b[1;31m---------------------------------------------------------------------------\u001b[0m",
      "\u001b[1;31mNameError\u001b[0m                                 Traceback (most recent call last)",
      "Cell \u001b[1;32mIn[77], line 5\u001b[0m\n\u001b[0;32m      2\u001b[0m food_stuff_tp \u001b[38;5;241m=\u001b[39m (\u001b[38;5;124m'\u001b[39m\u001b[38;5;124mApple\u001b[39m\u001b[38;5;124m'\u001b[39m, \u001b[38;5;124m'\u001b[39m\u001b[38;5;124mOrange\u001b[39m\u001b[38;5;124m'\u001b[39m, \u001b[38;5;124m'\u001b[39m\u001b[38;5;124mMango\u001b[39m\u001b[38;5;124m'\u001b[39m, \u001b[38;5;124m'\u001b[39m\u001b[38;5;124mGrapes\u001b[39m\u001b[38;5;124m'\u001b[39m, \u001b[38;5;124m'\u001b[39m\u001b[38;5;124mTomatoes\u001b[39m\u001b[38;5;124m'\u001b[39m, \u001b[38;5;124m'\u001b[39m\u001b[38;5;124mSpinach\u001b[39m\u001b[38;5;124m'\u001b[39m, \u001b[38;5;124m'\u001b[39m\u001b[38;5;124mCarrot\u001b[39m\u001b[38;5;124m'\u001b[39m, \u001b[38;5;124m'\u001b[39m\u001b[38;5;124mCucumber\u001b[39m\u001b[38;5;124m'\u001b[39m, \u001b[38;5;124m'\u001b[39m\u001b[38;5;124mWater leaves\u001b[39m\u001b[38;5;124m'\u001b[39m, \u001b[38;5;124m'\u001b[39m\u001b[38;5;124mMilk\u001b[39m\u001b[38;5;124m'\u001b[39m, \u001b[38;5;124m'\u001b[39m\u001b[38;5;124mFish\u001b[39m\u001b[38;5;124m'\u001b[39m, \u001b[38;5;124m'\u001b[39m\u001b[38;5;124mMeat\u001b[39m\u001b[38;5;124m'\u001b[39m, \u001b[38;5;124m'\u001b[39m\u001b[38;5;124mEgg\u001b[39m\u001b[38;5;124m'\u001b[39m)\n\u001b[0;32m      4\u001b[0m \u001b[38;5;28;01mdel\u001b[39;00m food_stuff_tp\n\u001b[1;32m----> 5\u001b[0m \u001b[38;5;28mprint\u001b[39m(food_stuff_tp)\n",
      "\u001b[1;31mNameError\u001b[0m: name 'food_stuff_tp' is not defined"
     ]
    }
   ],
   "source": [
    "#1. Delete the food_staff_tp tuple completely\n",
    "food_stuff_tp = ('Apple', 'Orange', 'Mango', 'Grapes', 'Tomatoes', 'Spinach', 'Carrot', 'Cucumber', 'Water leaves', 'Milk', 'Fish', 'Meat', 'Egg')\n",
    "\n",
    "del food_stuff_tp\n",
    "print(food_stuff_tp) # An error is expected here because the tuple has been deleted."
   ]
  },
  {
   "cell_type": "code",
   "execution_count": 88,
   "id": "29526ee7-2d20-4cfa-97fa-e8443e2c0d43",
   "metadata": {},
   "outputs": [
    {
     "name": "stdout",
     "output_type": "stream",
     "text": [
      "('Denmark', 'Finland', 'Iceland', 'Norway', 'Sweden')\n",
      "Check if Estonia is a nordic country: False\n",
      "Check if Iceland is a nordic country: True\n"
     ]
    }
   ],
   "source": [
    "#1. Check if an item exists in  tuple:\n",
    "\n",
    "#- Check if 'Estonia' is a nordic country\n",
    "#- Check if 'Iceland' is a nordic country\n",
    "\n",
    " # ```py\n",
    " # nordic_countries = ('Denmark', 'Finland','Iceland', 'Norway', 'Sweden')\n",
    " # ```\n",
    "\n",
    "nordic_countries = ('Denmark', 'Finland','Iceland', 'Norway', 'Sweden')\n",
    "print(nordic_countries)\n",
    "\n",
    "#- Check if 'Estonia' is a nordic country\n",
    "print('Check if Estonia is a nordic country:', 'Estonia' in nordic_countries)\n",
    "\n",
    "#- Check if 'Iceland' is a nordic country\n",
    "print('Check if Iceland is a nordic country:','Iceland' in nordic_countries)"
   ]
  },
  {
   "cell_type": "code",
   "execution_count": null,
   "id": "5e214105-4a83-4746-874d-cf48a6169ad2",
   "metadata": {},
   "outputs": [],
   "source": []
  }
 ],
 "metadata": {
  "kernelspec": {
   "display_name": "Python 3 (ipykernel)",
   "language": "python",
   "name": "python3"
  },
  "language_info": {
   "codemirror_mode": {
    "name": "ipython",
    "version": 3
   },
   "file_extension": ".py",
   "mimetype": "text/x-python",
   "name": "python",
   "nbconvert_exporter": "python",
   "pygments_lexer": "ipython3",
   "version": "3.12.4"
  }
 },
 "nbformat": 4,
 "nbformat_minor": 5
}
