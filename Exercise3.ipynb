{
 "cells": [
  {
   "cell_type": "code",
   "execution_count": 3,
   "id": "248faaec-00af-4128-98bc-e90fcf895c5b",
   "metadata": {},
   "outputs": [
    {
     "name": "stdin",
     "output_type": "stream",
     "text": [
      "Enter base: 5\n",
      "Enter height: 5\n"
     ]
    },
    {
     "name": "stdout",
     "output_type": "stream",
     "text": [
      "The area of a triangle of base 5 and height 5 is 12.5\n"
     ]
    }
   ],
   "source": [
    "# 1. Declare your age as integer variable\n",
    "age_integer = 25\n",
    "\n",
    "# 2. Declare your height as a float variable\n",
    "height_float = 6.7\n",
    "\n",
    "# 3. Declare a variable that store a complex number\n",
    "x_complex = 1 + 2j\n",
    "\n",
    "# 4. Write a script that prompts the user to enter base and height of the triangle and calculate an area of this triangle (area = 0.5 x b x h).\n",
    "base = int(input('Enter base:'))\n",
    "height = int(input('Enter height:'))\n",
    "area = (0.5 * base * height)\n",
    "print('The area of a triangle of base', base, 'and height', height, 'is', area)"
   ]
  },
  {
   "cell_type": "code",
   "execution_count": 6,
   "id": "9e55feb5-05a0-4e00-a75d-3f94f9f048b6",
   "metadata": {},
   "outputs": [
    {
     "name": "stdin",
     "output_type": "stream",
     "text": [
      "Enter side a 4\n",
      "Enter side b 5\n",
      "Enter side c 5\n"
     ]
    },
    {
     "name": "stdout",
     "output_type": "stream",
     "text": [
      "The perimeter of the triangle of sides 4 5 5 is 14\n"
     ]
    }
   ],
   "source": [
    "# 5. Write a script that prompts the user to enter side a, side b, and side c of the triangle. Calculate the perimeter of the triangle (perimeter = a + b + c).\n",
    "a = int(input('Enter side a'))\n",
    "b = int(input('Enter side b'))\n",
    "c = int(input('Enter side c'))\n",
    "perimeter_of_the_triangle = (a + b + c)\n",
    "print('The perimeter of the triangle of sides', a, b, c, 'is', perimeter_of_the_triangle)\n"
   ]
  },
  {
   "cell_type": "code",
   "execution_count": 12,
   "id": "b8975df1-bf6c-4a9e-8ea4-5bb176a7d624",
   "metadata": {},
   "outputs": [
    {
     "name": "stdin",
     "output_type": "stream",
     "text": [
      "Enter the length 3\n",
      "Enter the width 4\n"
     ]
    },
    {
     "name": "stdout",
     "output_type": "stream",
     "text": [
      "The area of a rectangle of length 3 and width 4 is equal to 12\n",
      "The perimeter of a rectangle of length 3 and width 4 is equal to 14\n"
     ]
    }
   ],
   "source": [
    "# 6. Get length and width of a rectangle using prompt. Calculate its area (area = length x width) and perimeter (perimeter = 2 x (length + width))\n",
    "length = int(input('Enter the length'))\n",
    "width = int(input('Enter the width'))\n",
    "area = (length * width)\n",
    "perimeter = (2 * (length + width))\n",
    "print('The area of a rectangle of length',length,'and width',width,'is equal to',area)\n",
    "print('The perimeter of a rectangle of length',length,'and width',width,'is equal to',perimeter)"
   ]
  },
  {
   "cell_type": "code",
   "execution_count": 31,
   "id": "1c605654-3132-46de-9dcf-4fab6096bcf0",
   "metadata": {},
   "outputs": [
    {
     "name": "stdin",
     "output_type": "stream",
     "text": [
      "Enter the radius 7\n"
     ]
    },
    {
     "name": "stdout",
     "output_type": "stream",
     "text": [
      "The area of a circle of radius 7 is equal to 153.93804002589985\n",
      "The circumference of a circle of radius 7 is equal to 43.982297150257104\n"
     ]
    }
   ],
   "source": [
    "# 7. Get radius of a circle using prompt. Calculate the area (area = pi x r x r) and circumference (c = 2 x pi x r) where pi = 3.14.\n",
    "import math\n",
    "radius = int(input('Enter the radius'))\n",
    "area = (math.pi * radius * radius)\n",
    "circumference = (2 * math.pi * radius)\n",
    "\n",
    "print('The area of a circle of radius', radius,'is equal to', area)\n",
    "print('The circumference of a circle of radius', radius,'is equal to', circumference)"
   ]
  },
  {
   "cell_type": "code",
   "execution_count": 6,
   "id": "f1239577-bda6-4735-b45b-3e3e1321a634",
   "metadata": {},
   "outputs": [
    {
     "name": "stdout",
     "output_type": "stream",
     "text": [
      "2\n",
      "1\n",
      "-2\n"
     ]
    }
   ],
   "source": [
    "# 8. Calculate the slope, x-intercept and y-intercept of y = 2x -2\n",
    "import sympy as sp\n",
    "\n",
    "x, y = sp.symbols('x y')\n",
    "equation = sp.Eq(y, 2*x - 2)\n",
    "\n",
    "slope = 2\n",
    "\n",
    "y_intercept = 2*0 -2\n",
    "\n",
    "x_intercept = sp.solve(equation.subs(y, 0), x)[0]\n",
    "print(slope)\n",
    "print(x_intercept)\n",
    "print(y_intercept)"
   ]
  },
  {
   "cell_type": "code",
   "execution_count": 29,
   "id": "1e77ce6c-7d93-46cf-9324-0222d56d47d5",
   "metadata": {},
   "outputs": [
    {
     "name": "stdout",
     "output_type": "stream",
     "text": [
      "2\n",
      "8.94427190999916\n"
     ]
    }
   ],
   "source": [
    "#9. slope is (m = y2-y1/x2-x1). Find the slope and Euclidean distance between point (2, 2) and point (6,10)\n",
    "import math\n",
    "x1 = y1 = 2\n",
    "x2, y2 = 6, 10\n",
    "m = int((y2 - y1) / (x2 - x1))\n",
    "euclidean_distance = math.sqrt((x2 - x1)**2 + (y2 - y1)**2)\n",
    "print(m)\n",
    "print(euclidean_distance)"
   ]
  },
  {
   "cell_type": "code",
   "execution_count": 27,
   "id": "8d8be9f5-0ba6-4ec3-87bc-c0b54eb4e70d",
   "metadata": {},
   "outputs": [
    {
     "name": "stdout",
     "output_type": "stream",
     "text": [
      "True\n",
      "True\n"
     ]
    }
   ],
   "source": [
    "# 10. Compare the slopes in tasks 8 and 9.\n",
    "print(slope == m)\n",
    "print(slope is m)"
   ]
  },
  {
   "cell_type": "code",
   "execution_count": 49,
   "id": "1513d9f9-b230-42b3-90d1-6cbc89e97bf7",
   "metadata": {},
   "outputs": [
    {
     "name": "stdin",
     "output_type": "stream",
     "text": [
      "Enter the value of x 5\n"
     ]
    },
    {
     "name": "stdout",
     "output_type": "stream",
     "text": [
      "y = 64\n"
     ]
    }
   ],
   "source": [
    "# 11. Calculate the value of y (y = x^2 + 6x + 9). Try to use different x values and figure out at what x value y is going to be 0.\n",
    "\n",
    "x = int(input('Enter the value of x'))\n",
    "y = x**2 + 6*x + 9\n",
    "print('y =',y)\n",
    "\n",
    "#CONCLUSION: At x = -3, y is equal to 0"
   ]
  },
  {
   "cell_type": "code",
   "execution_count": 55,
   "id": "b69ef35c-c935-4eaa-ab07-4d9310ac854e",
   "metadata": {},
   "outputs": [
    {
     "name": "stdout",
     "output_type": "stream",
     "text": [
      "6 6\n",
      "False\n",
      "False\n"
     ]
    }
   ],
   "source": [
    "# 12. Find the length of 'python' and 'dragon' and make a falsy comparison statement.\n",
    "p = len('Python')\n",
    "d = len('dragon')\n",
    "print(p, d)\n",
    "\n",
    "print(p is not d)\n",
    "print(p != d)"
   ]
  },
  {
   "cell_type": "code",
   "execution_count": 57,
   "id": "3e7a4447-7823-424f-bca3-9164ef8c7f40",
   "metadata": {},
   "outputs": [
    {
     "name": "stdout",
     "output_type": "stream",
     "text": [
      "True\n"
     ]
    }
   ],
   "source": [
    "# 13. Use and operator to check if 'on' is found in both 'python' and 'dragon'\n",
    "print('on' in 'python' and 'on' in 'dragon')"
   ]
  },
  {
   "cell_type": "code",
   "execution_count": 59,
   "id": "14b9b58e-a4e1-4633-b665-f25588c8fbfa",
   "metadata": {},
   "outputs": [
    {
     "name": "stdout",
     "output_type": "stream",
     "text": [
      "True\n"
     ]
    }
   ],
   "source": [
    "# 14. I hope this course is not full of jargon. Use in operator to check if jargon is in the sentence.\n",
    "print('jargon' in 'I hope this course is not full of jargon')"
   ]
  },
  {
   "cell_type": "code",
   "execution_count": 61,
   "id": "c4464cd3-dd6f-4cfc-b2a5-0fb2215c4be7",
   "metadata": {},
   "outputs": [
    {
     "name": "stdout",
     "output_type": "stream",
     "text": [
      "False\n"
     ]
    }
   ],
   "source": [
    "# 15. There is no 'on' in both dragon and python\n",
    "print('on' not in 'python' and 'on' in 'dragon')"
   ]
  },
  {
   "cell_type": "code",
   "execution_count": 66,
   "id": "a36f290e-ca0e-4959-b5c1-64bfaeca152e",
   "metadata": {},
   "outputs": [
    {
     "name": "stdout",
     "output_type": "stream",
     "text": [
      "6 6.0 6\n",
      "9.0\n"
     ]
    }
   ],
   "source": [
    "# 16. Find the length of the text python and convert the value to float and convert it to string\n",
    "p = len('python')\n",
    "p_float = float(p)\n",
    "p_string = str(p)\n",
    "\n",
    "print(p, p_float, p_string)"
   ]
  },
  {
   "cell_type": "code",
   "execution_count": 78,
   "id": "bb37c63a-8bfc-4d43-8dd6-8b824e444975",
   "metadata": {},
   "outputs": [
    {
     "name": "stdin",
     "output_type": "stream",
     "text": [
      "Enter number 11\n"
     ]
    },
    {
     "name": "stdout",
     "output_type": "stream",
     "text": [
      "False\n",
      "11 is an ODD number\n"
     ]
    }
   ],
   "source": [
    "# 17. Even numbers are divisible by 2 and the remainder is zero. How do you check if a number is even or not using python?\n",
    "number = int(input('Enter number'))\n",
    "print((number / 2) and (number % 2 == 0))\n",
    "if (number / 2) and (number % 2 == 0):\n",
    "    print(number,'is an EVEN number')\n",
    "else:\n",
    "    print(number,'is an ODD number')"
   ]
  },
  {
   "cell_type": "code",
   "execution_count": 15,
   "id": "eba2963f-fb0b-4bb2-8c14-d36a6217358b",
   "metadata": {},
   "outputs": [
    {
     "name": "stdout",
     "output_type": "stream",
     "text": [
      "True\n",
      "True\n",
      "True\n",
      "<class 'int'>\n"
     ]
    }
   ],
   "source": [
    "# 18. Check if the floor division of 7 by 3 is equal to the int converted value of 2.7.\n",
    "print(7//3 == int(2.7))\n",
    "\n",
    "#Another method \n",
    "a = int(2.7)\n",
    "b = 7 // 3\n",
    "print(b == a)\n",
    "#Another method using is\n",
    "print(a is b)\n",
    "\n",
    "print(type(a))"
   ]
  },
  {
   "cell_type": "code",
   "execution_count": 21,
   "id": "ab890ee6-8176-449a-8b58-f0a0c5ff7c7f",
   "metadata": {},
   "outputs": [
    {
     "name": "stdout",
     "output_type": "stream",
     "text": [
      "False\n",
      "False\n"
     ]
    }
   ],
   "source": [
    "# 19. Check if type of '10' is equal to type of 10\n",
    "print(type('10') == type(10))\n",
    "\n",
    "#Another method by assigning variables\n",
    "c = '10'\n",
    "d = 10\n",
    "print(c is d)"
   ]
  },
  {
   "cell_type": "code",
   "execution_count": 25,
   "id": "6ee9b23c-1724-4216-b2db-78e37309afe3",
   "metadata": {},
   "outputs": [
    {
     "name": "stdout",
     "output_type": "stream",
     "text": [
      "False\n"
     ]
    }
   ],
   "source": [
    "# 20. Check if int('9.8') is equal to 10\n",
    "print(int(9.8) == 10)"
   ]
  },
  {
   "cell_type": "code",
   "execution_count": 33,
   "id": "b2ec1ebf-27a6-4975-a62b-5e38b7b48330",
   "metadata": {},
   "outputs": [
    {
     "name": "stdin",
     "output_type": "stream",
     "text": [
      "Enter hours: 4\n",
      "Enter rate per hour: 500\n"
     ]
    },
    {
     "name": "stdout",
     "output_type": "stream",
     "text": [
      "You have worked for 4 hours at a rate of 500  Naira per hour. So your pay is: 2000 naira\n"
     ]
    }
   ],
   "source": [
    "# 21. Writ a script that prompts the user to enter hours and rate per hour. Calculate pay of the person?\n",
    "hours = int(input('Enter hours:'))\n",
    "rate_per_hour = int(input('Enter rate per hour:'))\n",
    "pay = hours * rate_per_hour\n",
    "print('You have worked for', hours,'hours at a rate of',rate_per_hour,' Naira per hour. So your pay is:',pay,'naira')"
   ]
  },
  {
   "cell_type": "code",
   "execution_count": 49,
   "id": "401ab67c-2b94-4a6b-b2d0-6248ab6220e5",
   "metadata": {},
   "outputs": [
    {
     "name": "stdin",
     "output_type": "stream",
     "text": [
      "Enter your age: 100\n"
     ]
    },
    {
     "name": "stdout",
     "output_type": "stream",
     "text": [
      "You are 100 years old and you have lived approximately 3155760000.0 seconds your whole life.\n"
     ]
    }
   ],
   "source": [
    "# 22. Write a script that prompts the user to enter number of years. Calculate the number of seconds a person can live. Assume a person can live hundred years\n",
    "\n",
    "age = int(input('Enter your age:'))\n",
    "\n",
    "seconds_per_minute = 60\n",
    "minute_per_hour = 60\n",
    "hour_per_day = 24\n",
    "days_per_year = 365.25    #Taking into account leap years\n",
    "\n",
    "seconds_calculator = age * seconds_per_minute * minute_per_hour * hour_per_day * days_per_year\n",
    "\n",
    "print(f'You are {age} years old and you have lived approximately {seconds_calculator} seconds your whole life.')"
   ]
  },
  {
   "cell_type": "code",
   "execution_count": 74,
   "id": "edbf2cc7-2fde-4bb3-bcf3-b491a3fd843c",
   "metadata": {},
   "outputs": [
    {
     "name": "stdout",
     "output_type": "stream",
     "text": [
      "1\t1\t1\t1\t1\n",
      "2\t1\t2\t4\t8\n",
      "3\t1\t3\t9\t27\n",
      "4\t1\t4\t16\t64\n",
      "5\t1\t5\t25\t125\n"
     ]
    }
   ],
   "source": [
    "# 23. Write a Python script that displays the following table\n",
    "print('1\\t1\\t1\\t1\\t1')\n",
    "print('2\\t1\\t2\\t4\\t8')\n",
    "print('3\\t1\\t3\\t9\\t27')\n",
    "print('4\\t1\\t4\\t16\\t64')\n",
    "print('5\\t1\\t5\\t25\\t125')"
   ]
  },
  {
   "cell_type": "code",
   "execution_count": null,
   "id": "eaff88c6-b49f-4bd0-af7e-5ff73382544f",
   "metadata": {},
   "outputs": [],
   "source": []
  }
 ],
 "metadata": {
  "kernelspec": {
   "display_name": "Python 3 (ipykernel)",
   "language": "python",
   "name": "python3"
  },
  "language_info": {
   "codemirror_mode": {
    "name": "ipython",
    "version": 3
   },
   "file_extension": ".py",
   "mimetype": "text/x-python",
   "name": "python",
   "nbconvert_exporter": "python",
   "pygments_lexer": "ipython3",
   "version": "3.12.4"
  }
 },
 "nbformat": 4,
 "nbformat_minor": 5
}
